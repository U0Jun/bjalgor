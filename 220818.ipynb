{
 "cells": [
  {
   "cell_type": "code",
   "execution_count": 1,
   "metadata": {},
   "outputs": [
    {
     "name": "stdout",
     "output_type": "stream",
     "text": [
      "right\n",
      "wrong\n",
      "right\n"
     ]
    }
   ],
   "source": [
    "# 4153\n",
    "\n",
    "while(True):\n",
    "    sides = sorted(list(map(int, input().split())))\n",
    "    if sides[0] == 0 and sides[1] == 0 and sides[2] == 0: break\n",
    "    else:\n",
    "        if sides[2]**2 == (sides[0]**2) + (sides[1]**2): print('right')\n",
    "        else: print('wrong')"
   ]
  },
  {
   "cell_type": "code",
   "execution_count": 20,
   "metadata": {},
   "outputs": [
    {
     "name": "stdout",
     "output_type": "stream",
     "text": [
      "160 50 20 60\n",
      "47600\n"
     ]
    }
   ],
   "source": [
    "# 2477\n",
    "\n",
    "K = int(input())\n",
    "x_cnt = 0\n",
    "y_cnt = 0\n",
    "\n",
    "side = []\n",
    "\n",
    "while(True):\n",
    "    dir, num = map(int, input().split())\n",
    "    if dir == 1: x_cnt += num\n",
    "    elif dir == 2: x_cnt -= num\n",
    "    elif dir == 3: y_cnt -= num\n",
    "    elif dir == 4: y_cnt += num\n",
    "    \n",
    "    side.append([dir, num])     \n",
    "    \n",
    "    if x_cnt == 0 and y_cnt == 0: break\n",
    "\n",
    "# 큰 사각형 크기    \n",
    "x_max = max([i[1] for i in side if i[0] == 1 or i[0] == 2])\n",
    "y_max = max([i[1] for i in side if i[0] == 3 or i[0] == 4])\n",
    "x_max_index = 0\n",
    "y_max_index = 0\n",
    "for i in range(len(side)):\n",
    "    if side[i][1] == x_max: x_max_index = i\n",
    "    if side[i][1] == y_max: y_max_index = i\n",
    "\n",
    "# 작은 사각형 크기 --> 최대 길이 보다 3번째 앞뒤로 존재함. \n",
    "x_min = side[(x_max_index+3)%6][1]\n",
    "y_min = side[(y_max_index+3)%6][1]\n",
    "\n",
    "print((x_max*y_max - x_min*y_min)*K)"
   ]
  },
  {
   "cell_type": "code",
   "execution_count": 26,
   "metadata": {},
   "outputs": [
    {
     "name": "stdout",
     "output_type": "stream",
     "text": [
      "3.141592653589793\n",
      "2\n"
     ]
    }
   ],
   "source": [
    "# 3053\n",
    "from math import pi\n",
    "\n",
    "R = int(input())\n",
    "\n",
    "print(pi*(R**2))\n",
    "print(2*(R**2))\n"
   ]
  },
  {
   "cell_type": "code",
   "execution_count": 27,
   "metadata": {},
   "outputs": [
    {
     "ename": "ValueError",
     "evalue": "invalid literal for int() with base 10: ''",
     "output_type": "error",
     "traceback": [
      "\u001b[1;31m---------------------------------------------------------------------------\u001b[0m",
      "\u001b[1;31mValueError\u001b[0m                                Traceback (most recent call last)",
      "\u001b[1;32m<ipython-input-27-9566f46a7064>\u001b[0m in \u001b[0;36m<module>\u001b[1;34m\u001b[0m\n\u001b[0;32m      1\u001b[0m \u001b[1;31m# 1002\u001b[0m\u001b[1;33m\u001b[0m\u001b[1;33m\u001b[0m\u001b[1;33m\u001b[0m\u001b[0m\n\u001b[0;32m      2\u001b[0m \u001b[1;33m\u001b[0m\u001b[0m\n\u001b[1;32m----> 3\u001b[1;33m \u001b[0mT\u001b[0m \u001b[1;33m=\u001b[0m \u001b[0mint\u001b[0m\u001b[1;33m(\u001b[0m\u001b[0minput\u001b[0m\u001b[1;33m(\u001b[0m\u001b[1;33m)\u001b[0m\u001b[1;33m)\u001b[0m\u001b[1;33m\u001b[0m\u001b[1;33m\u001b[0m\u001b[0m\n\u001b[0m\u001b[0;32m      4\u001b[0m \u001b[1;33m\u001b[0m\u001b[0m\n\u001b[0;32m      5\u001b[0m \u001b[0mc\u001b[0m\u001b[1;33m\u001b[0m\u001b[1;33m\u001b[0m\u001b[0m\n",
      "\u001b[1;31mValueError\u001b[0m: invalid literal for int() with base 10: ''"
     ]
    }
   ],
   "source": [
    "# 1002\n",
    "\n",
    "T = int(input())\n",
    "\n",
    "c_list = []\n",
    "for _ in range(T):\n",
    "    x1, y1, r1, x2, y2, r2 = map(int, input().split())\n",
    "    \n",
    "    "
   ]
  },
  {
   "cell_type": "code",
   "execution_count": null,
   "metadata": {},
   "outputs": [],
   "source": []
  }
 ],
 "metadata": {
  "kernelspec": {
   "display_name": "Python 3.8.8 ('base')",
   "language": "python",
   "name": "python3"
  },
  "language_info": {
   "codemirror_mode": {
    "name": "ipython",
    "version": 3
   },
   "file_extension": ".py",
   "mimetype": "text/x-python",
   "name": "python",
   "nbconvert_exporter": "python",
   "pygments_lexer": "ipython3",
   "version": "3.8.8"
  },
  "orig_nbformat": 4,
  "vscode": {
   "interpreter": {
    "hash": "6cc7455720652bebfd4a10eed685e54721d3b8ad110f1c429458684b8192be96"
   }
  }
 },
 "nbformat": 4,
 "nbformat_minor": 2
}
