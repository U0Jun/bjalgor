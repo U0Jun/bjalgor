{
 "cells": [
  {
   "cell_type": "code",
   "execution_count": 1,
   "metadata": {},
   "outputs": [
    {
     "name": "stdout",
     "output_type": "stream",
     "text": [
      "right\n",
      "wrong\n",
      "right\n"
     ]
    }
   ],
   "source": [
    "# 4153\n",
    "\n",
    "while(True):\n",
    "    sides = sorted(list(map(int, input().split())))\n",
    "    if sides[0] == 0 and sides[1] == 0 and sides[2] == 0: break\n",
    "    else:\n",
    "        if sides[2]**2 == (sides[0]**2) + (sides[1]**2): print('right')\n",
    "        else: print('wrong')"
   ]
  },
  {
   "cell_type": "code",
   "execution_count": 20,
   "metadata": {},
   "outputs": [
    {
     "name": "stdout",
     "output_type": "stream",
     "text": [
      "160 50 20 60\n",
      "47600\n"
     ]
    }
   ],
   "source": [
    "# 2477\n",
    "\n",
    "K = int(input())\n",
    "x_cnt = 0\n",
    "y_cnt = 0\n",
    "\n",
    "side = []\n",
    "\n",
    "while(True):\n",
    "    dir, num = map(int, input().split())\n",
    "    if dir == 1: x_cnt += num\n",
    "    elif dir == 2: x_cnt -= num\n",
    "    elif dir == 3: y_cnt -= num\n",
    "    elif dir == 4: y_cnt += num\n",
    "    \n",
    "    side.append([dir, num])     \n",
    "    \n",
    "    if x_cnt == 0 and y_cnt == 0: break\n",
    "\n",
    "# 큰 사각형 크기    \n",
    "x_max = max([i[1] for i in side if i[0] == 1 or i[0] == 2])\n",
    "y_max = max([i[1] for i in side if i[0] == 3 or i[0] == 4])\n",
    "x_max_index = 0\n",
    "y_max_index = 0\n",
    "for i in range(len(side)):\n",
    "    if side[i][1] == x_max: x_max_index = i\n",
    "    if side[i][1] == y_max: y_max_index = i\n",
    "\n",
    "# 작은 사각형 크기 --> 최대 길이 보다 3번째 앞뒤로 존재함. \n",
    "x_min = side[(x_max_index+3)%6][1]\n",
    "y_min = side[(y_max_index+3)%6][1]\n",
    "\n",
    "print((x_max*y_max - x_min*y_min)*K)"
   ]
  },
  {
   "cell_type": "code",
   "execution_count": 26,
   "metadata": {},
   "outputs": [
    {
     "name": "stdout",
     "output_type": "stream",
     "text": [
      "3.141592653589793\n",
      "2\n"
     ]
    }
   ],
   "source": [
    "# 3053\n",
    "from math import pi\n",
    "\n",
    "R = int(input())\n",
    "\n",
    "print(pi*(R**2))\n",
    "print(2*(R**2))\n"
   ]
  },
  {
   "cell_type": "code",
   "execution_count": 1,
   "metadata": {},
   "outputs": [
    {
     "name": "stdout",
     "output_type": "stream",
     "text": [
      "0\n",
      "0\n",
      "2\n"
     ]
    }
   ],
   "source": [
    "# 1002\n",
    "\n",
    "T = int(input())\n",
    "\n",
    "for _ in range(T):\n",
    "    x1, y1, r1, x2, y2, r2 = map(int, input().split())\n",
    "    \n",
    "    if x1 == x2 and y1 == y2 and r1 == r2: print(-1) # 두원이 일치하는 경우\n",
    "    \n",
    "    else:\n",
    "        dist = ((x1-x2)**2+(y1-y2)**2)**0.5\n",
    "        if dist == 0 and r1 == r2 : print(-1)\n",
    "        elif abs(r1-r2) == dist or r1+r2 == dist: print(1)\n",
    "        elif abs(r1-r2) < dist <(r1+r2): print(2)\n",
    "        else: print(0)\n",
    "    "
   ]
  },
  {
   "cell_type": "code",
   "execution_count": null,
   "metadata": {},
   "outputs": [],
   "source": [
    "# 1004\n",
    "# 얘는 문제가 이해가 되지 않아 https://pacific-ocean.tistory.com/108 블로그 코드 일단 복붙 후 추후 다시 볼 예정\n",
    "\n",
    "t = int(input())\n",
    "for i in range(t):\n",
    "    cnt = 0\n",
    "    x1, y1, x2, y2 = map(int, input().split())\n",
    "    n = int(input())\n",
    "    for i in range(n):\n",
    "        px, py, pr = map(int, input().split())\n",
    "        d1 = (((x1 - px) ** 2) + ((y1 - py) ** 2)) ** 0.5\n",
    "        d2 = (((x2 - px) ** 2) + ((y2 - py) ** 2)) ** 0.5\n",
    "        if (d1 < pr and d2 > pr) or (d1 > pr and d2 < pr):\n",
    "            cnt += 1\n",
    "    print(cnt)"
   ]
  },
  {
   "cell_type": "code",
   "execution_count": null,
   "metadata": {},
   "outputs": [],
   "source": [
    "# 1358\n",
    "\n",
    "w, h, x, y, p = map(int, input().split())\n",
    "\n",
    "co_list = []\n",
    "for _ in p:\n",
    "    x, y = map(int, input().split())\n",
    "    co_list.append([x, y])"
   ]
  }
 ],
 "metadata": {
  "kernelspec": {
   "display_name": "Python 3.8.8 ('base')",
   "language": "python",
   "name": "python3"
  },
  "language_info": {
   "codemirror_mode": {
    "name": "ipython",
    "version": 3
   },
   "file_extension": ".py",
   "mimetype": "text/x-python",
   "name": "python",
   "nbconvert_exporter": "python",
   "pygments_lexer": "ipython3",
   "version": "3.8.8"
  },
  "orig_nbformat": 4,
  "vscode": {
   "interpreter": {
    "hash": "6cc7455720652bebfd4a10eed685e54721d3b8ad110f1c429458684b8192be96"
   }
  }
 },
 "nbformat": 4,
 "nbformat_minor": 2
}
