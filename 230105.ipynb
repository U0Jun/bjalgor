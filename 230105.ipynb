{
 "cells": [
  {
   "cell_type": "code",
   "execution_count": null,
   "metadata": {},
   "outputs": [],
   "source": [
    "nums = []\n",
    "for _ in range(5):\n",
    "    nums.append(int(input()))\n",
    "    \n",
    "nums.sort()\n",
    "print(sum(nums)/5)\n",
    "print(nums[2])"
   ]
  },
  {
   "cell_type": "code",
   "execution_count": null,
   "metadata": {},
   "outputs": [],
   "source": [
    "def isPalindrome(text, cnt):\n",
    "    if len(text) \n",
    "    \n",
    "    return val, cnt\n",
    "    \n",
    "T = int(input())\n",
    "text = []\n",
    "\n",
    "for _ in range(T):\n",
    "    text = input()\n",
    "    cnt = 0\n",
    "    val, cnt = isPalindrome(text, cnt)"
   ]
  }
 ],
 "metadata": {
  "kernelspec": {
   "display_name": "Python 3",
   "language": "python",
   "name": "python3"
  },
  "language_info": {
   "name": "python",
   "version": "3.11.1 (main, Dec 23 2022, 09:28:24) [Clang 14.0.0 (clang-1400.0.29.202)]"
  },
  "orig_nbformat": 4,
  "vscode": {
   "interpreter": {
    "hash": "5c7b89af1651d0b8571dde13640ecdccf7d5a6204171d6ab33e7c296e100e08a"
   }
  }
 },
 "nbformat": 4,
 "nbformat_minor": 2
}
