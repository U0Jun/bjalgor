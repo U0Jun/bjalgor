{
 "cells": [
  {
   "cell_type": "code",
   "execution_count": null,
   "metadata": {},
   "outputs": [],
   "source": [
    "nums = []\n",
    "for _ in range(5):\n",
    "    nums.append(int(input()))\n",
    "    \n",
    "nums.sort()\n",
    "print(sum(nums)/5)\n",
    "print(nums[2])"
   ]
  },
  {
   "cell_type": "code",
   "execution_count": 7,
   "metadata": {},
   "outputs": [
    {
     "name": "stdout",
     "output_type": "stream",
     "text": [
      "1 3\n"
     ]
    }
   ],
   "source": [
    "#25501\n",
    "\n",
    "def recursion(s, l, r, cnt):\n",
    "    if l >= r: return 1, cnt\n",
    "    elif s[l] != s[r]: return 0, cnt\n",
    "    else: return recursion(s, l+1, r-1, cnt + 1)\n",
    "\n",
    "def isPalindrome(s):\n",
    "    cnt = 1\n",
    "    return recursion(s, 0, len(s)-1, cnt)\n",
    "\n",
    "num = int(input())\n",
    "\n",
    "for _ in range(num):\n",
    "    text = input()\n",
    "    cnt = 0\n",
    "    val, cnt = isPalindrome(text)\n",
    "\n",
    "    print(val, cnt)"
   ]
  }
 ],
 "metadata": {
  "kernelspec": {
   "display_name": "base",
   "language": "python",
   "name": "python3"
  },
  "language_info": {
   "codemirror_mode": {
    "name": "ipython",
    "version": 3
   },
   "file_extension": ".py",
   "mimetype": "text/x-python",
   "name": "python",
   "nbconvert_exporter": "python",
   "pygments_lexer": "ipython3",
   "version": "3.9.13"
  },
  "orig_nbformat": 4,
  "vscode": {
   "interpreter": {
    "hash": "5b68c5dbc1821ba67e41b5da9c80b88e867a65871c28dfc43319145e76ea7bb3"
   }
  }
 },
 "nbformat": 4,
 "nbformat_minor": 2
}
