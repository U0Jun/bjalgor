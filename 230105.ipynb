{
 "cells": [
  {
   "cell_type": "code",
   "execution_count": null,
   "metadata": {},
   "outputs": [],
   "source": [
    "nums = []\n",
    "for _ in range(5):\n",
    "    nums.append(int(input()))\n",
    "    \n",
    "nums.sort()\n",
    "print(sum(nums)/5)\n",
    "print(nums[2])"
   ]
  },
  {
   "cell_type": "code",
   "execution_count": 8,
   "metadata": {},
   "outputs": [
    {
     "name": "stdout",
     "output_type": "stream",
     "text": [
      "1 2\n",
      "1 3\n",
      "1 3\n",
      "0 2\n",
      "0 1\n"
     ]
    }
   ],
   "source": [
    "#25501\n",
    "\n",
    "def recursion(s, l, r, cnt):\n",
    "    if l >= r: return 1, cnt\n",
    "    elif s[l] != s[r]: return 0, cnt\n",
    "    else: return recursion(s, l+1, r-1, cnt + 1)\n",
    "\n",
    "def isPalindrome(s):\n",
    "    cnt = 1\n",
    "    return recursion(s, 0, len(s)-1, cnt)\n",
    "\n",
    "num = int(input())\n",
    "\n",
    "for _ in range(num):\n",
    "    text = input()\n",
    "    cnt = 0\n",
    "    val, cnt = isPalindrome(text)\n",
    "\n",
    "    print(val, cnt)"
   ]
  },
  {
   "cell_type": "code",
   "execution_count": null,
   "metadata": {},
   "outputs": [],
   "source": [
    "#24060\n",
    "def merge_sort(nums, K, start, end):\n",
    "    if start < end:\n",
    "        mid = int((start+end)/2)\n",
    "        merge_sort(nums, K, start, mid)\n",
    "        merge_sort(nums, K, mid+1, end)\n",
    "        merge(nums, K, start, end, mid)\n",
    "    \n",
    "def merge(nums, K, start, end, mid):\n",
    "    \n",
    "\n",
    "N, K = map(int, input().split())\n",
    "\n",
    "nums = list(map(int, input().split()))\n",
    "\n",
    "val = 0\n",
    "cnt = 0\n",
    "start = 0\n",
    "end = len(nums)-1\n",
    "val, cnt = merge_sort(nums, K, start, end)"
   ]
  },
  {
   "cell_type": "code",
   "execution_count": null,
   "metadata": {},
   "outputs": [],
   "source": [
    "#123"
   ]
  }
 ],
 "metadata": {
  "kernelspec": {
   "display_name": "base",
   "language": "python",
   "name": "python3"
  },
  "language_info": {
   "codemirror_mode": {
    "name": "ipython",
    "version": 3
   },
   "file_extension": ".py",
   "mimetype": "text/x-python",
   "name": "python",
   "nbconvert_exporter": "python",
   "pygments_lexer": "ipython3",
   "version": "3.9.13"
  },
  "orig_nbformat": 4,
  "vscode": {
   "interpreter": {
    "hash": "5b68c5dbc1821ba67e41b5da9c80b88e867a65871c28dfc43319145e76ea7bb3"
   }
  }
 },
 "nbformat": 4,
 "nbformat_minor": 2
}
