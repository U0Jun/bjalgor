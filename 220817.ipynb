{
 "cells": [
  {
   "cell_type": "code",
   "execution_count": 13,
   "metadata": {},
   "outputs": [
    {
     "name": "stdout",
     "output_type": "stream",
     "text": [
      "3 0 0 1 2 0 0 2 "
     ]
    },
    {
     "data": {
      "text/plain": [
       "\"\\nimport sys\\n\\nN = int(sys.stdin.readline().rstrip())\\nc_num1 = list(map(int, sys.stdin.readline().rstrip().split()))\\nM = int(input())\\nc_num2 = list(map(int, sys.stdin.readline().rstrip().split()))\\nc_num2 = {c_num2[i] : 0 for i in range(len(c_num2))}\\n\\nfor i in c_num1:\\n    if i in c_num2:\\n        c_num2[i] += 1\\n    else:\\n        continue\\n    \\nprint(' '.join(map(str, c_num2.values())))\\n\""
      ]
     },
     "execution_count": 13,
     "metadata": {},
     "output_type": "execute_result"
    }
   ],
   "source": [
    "# 10816\n",
    "\n",
    "N = int(input())\n",
    "c_num1 = list(map(int, input().split()))\n",
    "M = int(input())\n",
    "c_num2 = list(map(int, input().split()))\n",
    "d_num = {c_num2[i] : 0 for i in range(len(c_num2))}\n",
    "\n",
    "for i in c_num1:\n",
    "    if i in d_num:\n",
    "        d_num[i] += 1\n",
    "    else:\n",
    "        continue\n",
    "    \n",
    "for i in c_num2:\n",
    "    print(d_num[i], end=\" \")\n",
    "\n",
    "\"\"\"\n",
    "import sys\n",
    "\n",
    "N = int(sys.stdin.readline().rstrip())\n",
    "c_num1 = list(map(int, sys.stdin.readline().rstrip().split()))\n",
    "M = int(input())\n",
    "c_num2 = list(map(int, sys.stdin.readline().rstrip().split()))\n",
    "d_num = {c_num2[i] : 0 for i in range(len(c_num2))}\n",
    "\n",
    "for i in c_num1:\n",
    "    if i in c_num2:\n",
    "        d_num[i] += 1\n",
    "    else:\n",
    "        continue\n",
    "    \n",
    "for i in c_num2:\n",
    "    print(d_num[i], end=\" \")\n",
    "\"\"\""
   ]
  },
  {
   "cell_type": "code",
   "execution_count": 16,
   "metadata": {},
   "outputs": [
    {
     "name": "stdout",
     "output_type": "stream",
     "text": [
      "2\n",
      "baesangwook\n",
      "ohhenrie\n"
     ]
    }
   ],
   "source": [
    "# 1764\n",
    "\n",
    "N, M = map(int, input().split())\n",
    "nl_list = list(input() for _ in range(N))\n",
    "nl_list = {nl_list[i] : 0 for i in range(len(nl_list))}\n",
    "ns_list = list(input() for _ in range(M))\n",
    "ns_list = {ns_list[i] : 0 for i in range(len(ns_list))}\n",
    "\n",
    "both = []\n",
    "if N >= M:\n",
    "    for i in ns_list:\n",
    "        if i in nl_list:\n",
    "            both.append(i)\n",
    "else:\n",
    "    for i in nl_list:\n",
    "        if i in ns_list:\n",
    "            both.append(i)\n",
    "print(len(both))\n",
    "for i in sorted(both):\n",
    "    print(i)"
   ]
  },
  {
   "cell_type": "code",
   "execution_count": 19,
   "metadata": {},
   "outputs": [
    {
     "name": "stdout",
     "output_type": "stream",
     "text": [
      "4\n"
     ]
    }
   ],
   "source": [
    "# 1269\n",
    "\n",
    "A, B = map(int, input().split())\n",
    "a_list = list(map(int, input().split()))\n",
    "a_list = {a_list[i] : 0 for i in range(len(a_list))}\n",
    "b_list = list(map(int, input().split()))\n",
    "b_list = {b_list[i] : 0 for i in range(len(b_list))}\n",
    "\n",
    "not_both = []\n",
    "for i in a_list:\n",
    "    if i in b_list:\n",
    "        continue\n",
    "    else:\n",
    "        not_both.append(i)\n",
    "for i in b_list:\n",
    "    if i in a_list:\n",
    "        continue\n",
    "    else:\n",
    "        not_both.append(i)\n",
    "\n",
    "print(len(not_both))"
   ]
  },
  {
   "cell_type": "code",
   "execution_count": 40,
   "metadata": {},
   "outputs": [
    {
     "name": "stdout",
     "output_type": "stream",
     "text": [
      "12\n"
     ]
    }
   ],
   "source": [
    "# 11478\n",
    "from itertools import combinations \n",
    "\n",
    "s = list(input())\n",
    "cnt = set()\n",
    "for i in range(1, len(s)+1):\n",
    "    for j in range(len(s)):\n",
    "        if j+i-1 < len(s):\n",
    "            cnt.add(''.join(s[j:j+i]))\n",
    "        else:\n",
    "            continue\n",
    "        \n",
    "print(len(cnt))"
   ]
  }
 ],
 "metadata": {
  "kernelspec": {
   "display_name": "Python 3.8.8 ('base')",
   "language": "python",
   "name": "python3"
  },
  "language_info": {
   "name": "python",
   "version": "3.8.8"
  },
  "orig_nbformat": 4,
  "vscode": {
   "interpreter": {
    "hash": "6cc7455720652bebfd4a10eed685e54721d3b8ad110f1c429458684b8192be96"
   }
  }
 },
 "nbformat": 4,
 "nbformat_minor": 2
}
