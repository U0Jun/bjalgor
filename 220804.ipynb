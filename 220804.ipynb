{
 "cells": [
  {
   "cell_type": "code",
   "execution_count": 4,
   "id": "c3e80c97",
   "metadata": {
    "scrolled": true
   },
   "outputs": [
    {
     "name": "stdout",
     "output_type": "stream",
     "text": [
      "9\n",
      "['***', '* *', '***']\n",
      "['*********', '* ** ** *', '*********', '***   ***', '* *   * *', '***   ***', '*********', '* ** ** *', '*********']\n",
      "*********\n",
      "* ** ** *\n",
      "*********\n",
      "***   ***\n",
      "* *   * *\n",
      "***   ***\n",
      "*********\n",
      "* ** ** *\n",
      "*********\n"
     ]
    }
   ],
   "source": [
    "# 2447\n",
    "# https://cotak.tistory.com/38 출처\n",
    "# 못풀음\n",
    "\n",
    "def recursive1(N):\n",
    "    if N == 1: return ['*']\n",
    "    \n",
    "    star = recursive1(N/3)\n",
    "    L = []\n",
    "    \n",
    "    for s in star: # N==3이면 star에 ['***', '* *', '***'] 들어가 있음\n",
    "        L.append(s*3)\n",
    "    for s in star:\n",
    "        L.append(s+' '*int(N/3)+s)\n",
    "    for s in star:\n",
    "        L.append(s*3)\n",
    "    return L\n",
    "\n",
    "N = int(input())\n",
    "print('\\n'.join(recursive1(N)))"
   ]
  },
  {
   "cell_type": "code",
   "execution_count": 7,
   "id": "bfd8027a",
   "metadata": {},
   "outputs": [
    {
     "name": "stdout",
     "output_type": "stream",
     "text": [
      "77 77 7777\n",
      "7931\n"
     ]
    }
   ],
   "source": [
    "# 11382\n",
    "\n",
    "A,B,C = map(int, input().split(' '))\n",
    "print(A+B+C)"
   ]
  },
  {
   "cell_type": "code",
   "execution_count": 10,
   "id": "fb5fb6cc",
   "metadata": {},
   "outputs": [
    {
     "name": "stdout",
     "output_type": "stream",
     "text": [
      "3\n",
      "7\n",
      "1 3\n",
      "1 2\n",
      "3 2\n",
      "1 3\n",
      "2 1\n",
      "2 3\n",
      "1 3\n"
     ]
    }
   ],
   "source": [
    "# 11729\n",
    "\n",
    "def recursive2(N, a, b, c):\n",
    "    if N == 1: print(a, c)\n",
    "    else:\n",
    "        recursive2(N-1, a, c, b)\n",
    "        print(a, c)\n",
    "        recursive2(N-1, b, a, c)\n",
    "\n",
    "N = int(input())\n",
    "cnt = 1\n",
    "for i in range(N-1):\n",
    "    cnt = cnt*2+1\n",
    "    \n",
    "print(cnt)\n",
    "\n",
    "recursive2(N,1,2,3)"
   ]
  },
  {
   "cell_type": "code",
   "execution_count": 48,
   "id": "ef48c005",
   "metadata": {},
   "outputs": [
    {
     "name": "stdout",
     "output_type": "stream",
     "text": [
      "123423\n"
     ]
    },
    {
     "ename": "ValueError",
     "evalue": "not enough values to unpack (expected 2, got 1)",
     "output_type": "error",
     "traceback": [
      "\u001b[1;31m---------------------------------------------------------------------------\u001b[0m",
      "\u001b[1;31mValueError\u001b[0m                                Traceback (most recent call last)",
      "\u001b[1;32m<ipython-input-48-bf1ebf69654c>\u001b[0m in \u001b[0;36m<module>\u001b[1;34m\u001b[0m\n\u001b[0;32m      1\u001b[0m \u001b[1;31m# 2798\u001b[0m\u001b[1;33m\u001b[0m\u001b[1;33m\u001b[0m\u001b[1;33m\u001b[0m\u001b[0m\n\u001b[0;32m      2\u001b[0m \u001b[1;33m\u001b[0m\u001b[0m\n\u001b[1;32m----> 3\u001b[1;33m \u001b[0mN\u001b[0m\u001b[1;33m,\u001b[0m \u001b[0mM\u001b[0m \u001b[1;33m=\u001b[0m \u001b[0mmap\u001b[0m\u001b[1;33m(\u001b[0m\u001b[0mint\u001b[0m\u001b[1;33m,\u001b[0m \u001b[0minput\u001b[0m\u001b[1;33m(\u001b[0m\u001b[1;33m)\u001b[0m\u001b[1;33m.\u001b[0m\u001b[0msplit\u001b[0m\u001b[1;33m(\u001b[0m\u001b[1;34m' '\u001b[0m\u001b[1;33m)\u001b[0m\u001b[1;33m)\u001b[0m\u001b[1;33m\u001b[0m\u001b[1;33m\u001b[0m\u001b[0m\n\u001b[0m\u001b[0;32m      4\u001b[0m \u001b[1;33m\u001b[0m\u001b[0m\n\u001b[0;32m      5\u001b[0m \u001b[0mcard_list\u001b[0m \u001b[1;33m=\u001b[0m \u001b[0mlist\u001b[0m\u001b[1;33m(\u001b[0m\u001b[0mmap\u001b[0m\u001b[1;33m(\u001b[0m\u001b[0mint\u001b[0m\u001b[1;33m,\u001b[0m \u001b[0minput\u001b[0m\u001b[1;33m(\u001b[0m\u001b[1;33m)\u001b[0m\u001b[1;33m.\u001b[0m\u001b[0msplit\u001b[0m\u001b[1;33m(\u001b[0m\u001b[1;34m' '\u001b[0m\u001b[1;33m)\u001b[0m\u001b[1;33m)\u001b[0m\u001b[1;33m)\u001b[0m\u001b[1;33m\u001b[0m\u001b[1;33m\u001b[0m\u001b[0m\n",
      "\u001b[1;31mValueError\u001b[0m: not enough values to unpack (expected 2, got 1)"
     ]
    }
   ],
   "source": [
    "# 2798\n",
    "\n",
    "N, M = map(int, input().split(' '))\n",
    "\n",
    "card_list = list(map(int, input().split(' ')))\n",
    "\n",
    "old = 0\n",
    "for a in range(len(card_list)):\n",
    "    for b in range(a+1, len(card_list)):\n",
    "        for c in range(b+1, len(card_list)):\n",
    "            new = card_list[a] + card_list[b] + card_list[c]\n",
    "            if old < new <= M: old = new\n",
    "            elif old == M: break\n",
    "            else: continue\n",
    "        if old == M: break\n",
    "    if old == M: break\n",
    "                \n",
    "print(old)"
   ]
  },
  {
   "cell_type": "code",
   "execution_count": 65,
   "id": "29cc1912",
   "metadata": {},
   "outputs": [
    {
     "name": "stdout",
     "output_type": "stream",
     "text": [
      "990052\n",
      "989999\n"
     ]
    }
   ],
   "source": [
    "# 2231\n",
    "\n",
    "N = int(input())\n",
    "l = len(list(str(N)))\n",
    "result = 0\n",
    "for i in range(N-(9*l), N+1): # N에서 9의 자릿수 배수를 빼준 숫자부터 순회 --> 어차피 모든 자릿수 합은 9의 배수 보다 작음\n",
    "    if i <= 0:\n",
    "        tmp = list(str(i+(9*l)))\n",
    "        result = i + (9*l)\n",
    "    else:\n",
    "        tmp = list(str(i))\n",
    "        result = i\n",
    "    for n in tmp:\n",
    "        result = result + int(n)\n",
    "    if result == N: print(i); break;\n",
    "\n",
    "if result != N: print(0)"
   ]
  },
  {
   "cell_type": "code",
   "execution_count": 81,
   "id": "4ddefb92",
   "metadata": {},
   "outputs": [
    {
     "name": "stdout",
     "output_type": "stream",
     "text": [
      "5\n",
      "55 185\n",
      "58 183\n",
      "88 186\n",
      "60 175\n",
      "46 155\n",
      "2 2 1 2 5 "
     ]
    }
   ],
   "source": [
    "# 7568\n",
    "\n",
    "N = int(input())\n",
    "\n",
    "hw_list = []\n",
    "\n",
    "for n in range(N):\n",
    "    h, w = map(int, input().split(' '))\n",
    "    hw_list.append([h, w])\n",
    "\n",
    "r_list = []\n",
    "for i in range(len(hw_list)):\n",
    "    rank = 1\n",
    "    for j in range(len(hw_list)):\n",
    "        if i == j: continue\n",
    "        if hw_list[i][0] < hw_list[j][0] and hw_list[i][1] < hw_list[j][1]:\n",
    "            rank += 1\n",
    "        #elif hw_list[i][0] > hw_list[j][0] and hw_list[i][1] > hw_list[j][1]:\n",
    "            #continue\n",
    "        else: continue\n",
    "        \n",
    "    r_list.append(rank)\n",
    "\n",
    "for r in r_list:\n",
    "    print(r, end = ' ')"
   ]
  }
 ],
 "metadata": {
  "kernelspec": {
   "display_name": "Python 3",
   "language": "python",
   "name": "python3"
  },
  "language_info": {
   "codemirror_mode": {
    "name": "ipython",
    "version": 3
   },
   "file_extension": ".py",
   "mimetype": "text/x-python",
   "name": "python",
   "nbconvert_exporter": "python",
   "pygments_lexer": "ipython3",
   "version": "3.8.8"
  },
  "toc": {
   "base_numbering": 1,
   "nav_menu": {},
   "number_sections": true,
   "sideBar": true,
   "skip_h1_title": false,
   "title_cell": "Table of Contents",
   "title_sidebar": "Contents",
   "toc_cell": false,
   "toc_position": {},
   "toc_section_display": true,
   "toc_window_display": false
  },
  "varInspector": {
   "cols": {
    "lenName": 16,
    "lenType": 16,
    "lenVar": 40
   },
   "kernels_config": {
    "python": {
     "delete_cmd_postfix": "",
     "delete_cmd_prefix": "del ",
     "library": "var_list.py",
     "varRefreshCmd": "print(var_dic_list())"
    },
    "r": {
     "delete_cmd_postfix": ") ",
     "delete_cmd_prefix": "rm(",
     "library": "var_list.r",
     "varRefreshCmd": "cat(var_dic_list()) "
    }
   },
   "types_to_exclude": [
    "module",
    "function",
    "builtin_function_or_method",
    "instance",
    "_Feature"
   ],
   "window_display": false
  }
 },
 "nbformat": 4,
 "nbformat_minor": 5
}
