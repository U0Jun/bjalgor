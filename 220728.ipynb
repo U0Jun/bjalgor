{
 "cells": [
  {
   "cell_type": "code",
   "execution_count": null,
   "id": "eb85ff63",
   "metadata": {},
   "outputs": [],
   "source": [
    "# 10250\n",
    "\n",
    "T = int(input())\n",
    "for i in range(T):\n",
    "    H, W, N = map(int,input().split(' '))\n",
    "    line = 1\n",
    "    cnt = 1\n",
    "    room = str()\n",
    "    while(True):\n",
    "        if cnt <= N <= cnt+H-1:\n",
    "            floor = 1\n",
    "            while(True):\n",
    "                if cnt == N: break\n",
    "                else:\n",
    "                    cnt += 1\n",
    "                    floor += 1\n",
    "            \n",
    "            if line < 10 : line = '0'+str(line)\n",
    "            else: line = str(line)\n",
    "                \n",
    "            print(str(floor)+line)\n",
    "            break\n",
    "            \n",
    "        else:\n",
    "            cnt += H\n",
    "            line += 1"
   ]
  },
  {
   "cell_type": "code",
   "execution_count": 12,
   "id": "ddfd6881",
   "metadata": {},
   "outputs": [
    {
     "name": "stdout",
     "output_type": "stream",
     "text": [
      "2\n",
      "1\n",
      "3\n",
      "6\n",
      "2\n",
      "3\n",
      "10\n"
     ]
    }
   ],
   "source": [
    "# 2775\n",
    "\n",
    "T = int(input())\n",
    "\n",
    "for i in range(T):\n",
    "    k = int(input())\n",
    "    n = int(input())\n",
    "    floor = 0\n",
    "    line = 1\n",
    "    f_num = list(range(1, n+1))\n",
    "    \n",
    "    for i in range(k):\n",
    "        if i < k:\n",
    "            old = f_num\n",
    "            for i in range(len(old)):\n",
    "                if i == 0: continue\n",
    "                else:\n",
    "                    f_num[i] = f_num[i-1] + old[i]\n",
    "                    \n",
    "    print(f_num[-1])"
   ]
  },
  {
   "cell_type": "code",
   "execution_count": 26,
   "id": "2f03541c",
   "metadata": {},
   "outputs": [
    {
     "name": "stdout",
     "output_type": "stream",
     "text": [
      "4\n",
      "-1\n"
     ]
    }
   ],
   "source": [
    "# 2839\n",
    "\n",
    "N = int(input())\n",
    "\n",
    "cnt = 0\n",
    "\n",
    "while(N > 0):\n",
    "    if N % 5 == 0:\n",
    "        N -= 5\n",
    "        cnt += 1\n",
    "    \n",
    "    elif N % 3 == 0:\n",
    "        N -= 3\n",
    "        cnt += 1\n",
    "        \n",
    "    else:\n",
    "        if N > 5: N -= 5; cnt += 1\n",
    "        elif N > 3: N -= 3; cnt += 1\n",
    "        else: break\n",
    "            \n",
    "if N == 0 : print(cnt)\n",
    "else: print(-1)"
   ]
  },
  {
   "cell_type": "code",
   "execution_count": 28,
   "id": "24e4e082",
   "metadata": {},
   "outputs": [
    {
     "name": "stdout",
     "output_type": "stream",
     "text": [
      "9223372036854775807 9223372036854775808\n",
      "18446744073709551615\n"
     ]
    }
   ],
   "source": [
    "A, B = map(int, input().split(' '))\n",
    "print(A+B)"
   ]
  }
 ],
 "metadata": {
  "kernelspec": {
   "display_name": "Python 3",
   "language": "python",
   "name": "python3"
  },
  "language_info": {
   "codemirror_mode": {
    "name": "ipython",
    "version": 3
   },
   "file_extension": ".py",
   "mimetype": "text/x-python",
   "name": "python",
   "nbconvert_exporter": "python",
   "pygments_lexer": "ipython3",
   "version": "3.8.8"
  },
  "toc": {
   "base_numbering": 1,
   "nav_menu": {},
   "number_sections": true,
   "sideBar": true,
   "skip_h1_title": false,
   "title_cell": "Table of Contents",
   "title_sidebar": "Contents",
   "toc_cell": false,
   "toc_position": {},
   "toc_section_display": true,
   "toc_window_display": false
  },
  "varInspector": {
   "cols": {
    "lenName": 16,
    "lenType": 16,
    "lenVar": 40
   },
   "kernels_config": {
    "python": {
     "delete_cmd_postfix": "",
     "delete_cmd_prefix": "del ",
     "library": "var_list.py",
     "varRefreshCmd": "print(var_dic_list())"
    },
    "r": {
     "delete_cmd_postfix": ") ",
     "delete_cmd_prefix": "rm(",
     "library": "var_list.r",
     "varRefreshCmd": "cat(var_dic_list()) "
    }
   },
   "types_to_exclude": [
    "module",
    "function",
    "builtin_function_or_method",
    "instance",
    "_Feature"
   ],
   "window_display": false
  }
 },
 "nbformat": 4,
 "nbformat_minor": 5
}
