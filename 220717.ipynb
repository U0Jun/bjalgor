{
 "cells": [
  {
   "cell_type": "code",
   "execution_count": 11,
   "id": "e3b4f925",
   "metadata": {},
   "outputs": [
    {
     "name": "stdout",
     "output_type": "stream",
     "text": [
      "1 2 2\n",
      "-1\n"
     ]
    }
   ],
   "source": [
    "# 1712\n",
    "a, b, c = map(int, input().split(' '))\n",
    "print((a//(c-b))+1 if b!=c and (a/(c-b)) > 0  else -1)\n",
    "# b==c일 경우를 고려해야됨"
   ]
  },
  {
   "cell_type": "code",
   "execution_count": 37,
   "id": "755bd2b7",
   "metadata": {},
   "outputs": [
    {
     "name": "stdout",
     "output_type": "stream",
     "text": [
      "13\n",
      "3 8 19\n"
     ]
    }
   ],
   "source": [
    "# 2292\n",
    "\n",
    "N = int(input())\n",
    "\n",
    "start = 1\n",
    "layer = 1\n",
    "layer_sn = 2\n",
    "layer_fn = 7\n",
    "\n",
    "while(True):\n",
    "    if N == 1 :\n",
    "        print(layer); break;\n",
    "    else:\n",
    "        layer += 1\n",
    "        layer_sn = layer_sn+(6*(layer-2))\n",
    "        layer_fn = layer_sn+(6*(layer-1))-1\n",
    "        \n",
    "        if layer_sn <= N <= layer_fn:\n",
    "            print(layer); break;"
   ]
  },
  {
   "cell_type": "code",
   "execution_count": 62,
   "id": "c3048ef8",
   "metadata": {},
   "outputs": [
    {
     "name": "stdout",
     "output_type": "stream",
     "text": [
      "7\n",
      "1/4\n"
     ]
    }
   ],
   "source": [
    "# 1193\n",
    "\n",
    "layer = 2\n",
    "cnt = 1\n",
    "X = int(input())\n",
    "\n",
    "if X == 1: print('1/1') # 1이면 1/1 출력\n",
    "else:\n",
    "    nom = 0\n",
    "    denom = 0\n",
    "    while(True):\n",
    "        if cnt+1 <= X <= cnt+layer: # 대각선 한 줄을 layer로 취급\n",
    "            total = layer + 1 # 한 줄을 구성하는 분모 분자의 합은 레이어 층수 보다 1이 큼\n",
    "            if total % 2 == 0: # 합이 홀수면 분자 증가, 분모 감소\n",
    "                nom = layer\n",
    "                denom = 1\n",
    "                cnt += 1\n",
    "                while (cnt<X):\n",
    "                    nom -= 1; denom += 1; cnt += 1;\n",
    "            else: # 합이 짝수면 분자 감소, 분모 증가\n",
    "                nom = 1\n",
    "                denom = layer\n",
    "                cnt += 1\n",
    "                while (cnt<X):\n",
    "                    nom += 1; denom -= 1; cnt += 1;\n",
    "            break\n",
    "\n",
    "        else:\n",
    "            cnt += layer\n",
    "            layer += 1\n",
    "\n",
    "    print(f'{nom}/{denom}')\n",
    "    \n",
    "\"\"\"\n",
    "n=int(input());a=0\n",
    "while n>0:a+=1;n-=a\n",
    "print(\"%d/%d\"%(1-n,a+n)[::a%2*2-1])\n",
    "\"\"\""
   ]
  },
  {
   "cell_type": "code",
   "execution_count": 10,
   "id": "f5c75ef0",
   "metadata": {
    "scrolled": false
   },
   "outputs": [
    {
     "name": "stdout",
     "output_type": "stream",
     "text": [
      "100 99 1000000000\n",
      "999999901\n"
     ]
    }
   ],
   "source": [
    "# 2869\n",
    "\n",
    "A, B, V = map(int,input().split(' '))\n",
    "if A == V : print(1)\n",
    "else: print((V-A)//(A-B)+2 if ((V-A)//(A-B))*(A-B) < V-A else ((V-A)//(A-B))+1)"
   ]
  }
 ],
 "metadata": {
  "kernelspec": {
   "display_name": "Python 3",
   "language": "python",
   "name": "python3"
  },
  "language_info": {
   "codemirror_mode": {
    "name": "ipython",
    "version": 3
   },
   "file_extension": ".py",
   "mimetype": "text/x-python",
   "name": "python",
   "nbconvert_exporter": "python",
   "pygments_lexer": "ipython3",
   "version": "3.8.8"
  },
  "toc": {
   "base_numbering": 1,
   "nav_menu": {},
   "number_sections": true,
   "sideBar": true,
   "skip_h1_title": false,
   "title_cell": "Table of Contents",
   "title_sidebar": "Contents",
   "toc_cell": false,
   "toc_position": {},
   "toc_section_display": true,
   "toc_window_display": false
  },
  "varInspector": {
   "cols": {
    "lenName": 16,
    "lenType": 16,
    "lenVar": 40
   },
   "kernels_config": {
    "python": {
     "delete_cmd_postfix": "",
     "delete_cmd_prefix": "del ",
     "library": "var_list.py",
     "varRefreshCmd": "print(var_dic_list())"
    },
    "r": {
     "delete_cmd_postfix": ") ",
     "delete_cmd_prefix": "rm(",
     "library": "var_list.r",
     "varRefreshCmd": "cat(var_dic_list()) "
    }
   },
   "types_to_exclude": [
    "module",
    "function",
    "builtin_function_or_method",
    "instance",
    "_Feature"
   ],
   "window_display": false
  }
 },
 "nbformat": 4,
 "nbformat_minor": 5
}
