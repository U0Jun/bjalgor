{
 "cells": [
  {
   "cell_type": "code",
   "execution_count": 6,
   "id": "049a44b1",
   "metadata": {},
   "outputs": [
    {
     "name": "stdout",
     "output_type": "stream",
     "text": [
      "4\n",
      "1 3 5 7\n",
      "4\n"
     ]
    }
   ],
   "source": [
    "# 1978\n",
    "\n",
    "N = int(input())\n",
    "\n",
    "nums = list(map(int, input().split(' ')))\n",
    "cnt =0\n",
    "for n in nums:\n",
    "    pn = list()\n",
    "    for i in range(1,n+1):\n",
    "        if n%i == 0: pn.append(i)\n",
    "        \n",
    "    if len(pn) == 2:\n",
    "        cnt += 1\n",
    "    else:\n",
    "        continue\n",
    "print(cnt)"
   ]
  },
  {
   "cell_type": "code",
   "execution_count": null,
   "id": "bdd69c6c",
   "metadata": {},
   "outputs": [],
   "source": [
    "# 2581\n",
    "\n",
    "M = int(input())\n",
    "N = int(input())\n",
    "\n",
    "pn = list()\n",
    "for n in range(M,N+1):\n",
    "    div = list()\n",
    "    for i in range(1,n+1):\n",
    "        if n%i == 0: div.append(i);\n",
    "        else: continue\n",
    "    \n",
    "    if len(div) == 2: pn.append(n)\n",
    "    else: continue\n",
    "\n",
    "if len(pn)==0:\n",
    "    print(-1)\n",
    "else:\n",
    "    print(sum(pn))\n",
    "    print(pn[0])"
   ]
  },
  {
   "cell_type": "code",
   "execution_count": 52,
   "id": "8fbf62b2",
   "metadata": {},
   "outputs": [
    {
     "name": "stdout",
     "output_type": "stream",
     "text": [
      "101\n",
      "101\n"
     ]
    }
   ],
   "source": [
    "# 11653\n",
    "import sys\n",
    "\n",
    "N = int(input())\n",
    "if N == 1: sys.exit()\n",
    "\n",
    "for n in range(2, N+1):\n",
    "    if N / n < 1 : break\n",
    "    elif N % n == 0:\n",
    "        while(True):\n",
    "            print(n)\n",
    "            N = N / n\n",
    "            if N % n != 0 or N / n < 1 : break\n",
    "\n",
    "    else: continue"
   ]
  },
  {
   "cell_type": "code",
   "execution_count": 1,
   "id": "b803100a",
   "metadata": {
    "scrolled": false
   },
   "outputs": [
    {
     "name": "stdout",
     "output_type": "stream",
     "text": [
      "1 2\n",
      "2\n"
     ]
    },
    {
     "data": {
      "text/plain": [
       "'\\nm, n = map(int, input().split())\\n\\ndef isprime(m, n):\\n  n += 1                            # for문 사용을 위한 n += 1\\n  prime = [True] * n                # n개의 [True]가 있는 리스트 생성\\n  for i in range(2, int(n**0.5)+1): # n의 제곱근까지만 검사\\n    if prime[i]:                    # prime[i]가 True일때\\n      for j in range(2*i, n, i):    # prime 내 i의 배수들을 False로 변환\\n        prime[j] = False\\n\\n  for i in range(m, n):\\n    if i > 1 and prime[i] == True:  # 1 이상이면서 남은 소수들을 출력\\n      print(i)\\n\\nisprime(m, n)\\n        \\n'"
      ]
     },
     "execution_count": 1,
     "metadata": {},
     "output_type": "execute_result"
    }
   ],
   "source": [
    "# 1929\n",
    "\n",
    "M, N = map(int, input().split(' '))\n",
    "\n",
    "number = [True]*(N+1)\n",
    "number[1] = False # 리스트 시작은 0\n",
    "    \n",
    "j = int(N**0.5) # 최대 공약수는 제곱근 이하임\n",
    "for i in range(2,j+1):\n",
    "    if number[i]:\n",
    "        for k in range(i+i, N+1, i):\n",
    "            number[k] = False\n",
    "            \n",
    "for i in range(M,N+1):\n",
    "    if number[i]: print(i)\n",
    "        \n",
    "\"\"\"\n",
    "m, n = map(int, input().split())\n",
    "\n",
    "def isprime(m, n):\n",
    "  n += 1                            # for문 사용을 위한 n += 1\n",
    "  prime = [True] * n                # n개의 [True]가 있는 리스트 생성\n",
    "  for i in range(2, int(n**0.5)+1): # n의 제곱근까지만 검사\n",
    "    if prime[i]:                    # prime[i]가 True일때\n",
    "      for j in range(2*i, n, i):    # prime 내 i의 배수들을 False로 변환\n",
    "        prime[j] = False\n",
    "\n",
    "  for i in range(m, n):\n",
    "    if i > 1 and prime[i] == True:  # 1 이상이면서 남은 소수들을 출력\n",
    "      print(i)\n",
    "\n",
    "isprime(m, n)\n",
    "        \n",
    "\"\"\""
   ]
  }
 ],
 "metadata": {
  "kernelspec": {
   "display_name": "Python 3",
   "language": "python",
   "name": "python3"
  },
  "language_info": {
   "codemirror_mode": {
    "name": "ipython",
    "version": 3
   },
   "file_extension": ".py",
   "mimetype": "text/x-python",
   "name": "python",
   "nbconvert_exporter": "python",
   "pygments_lexer": "ipython3",
   "version": "3.8.8"
  },
  "toc": {
   "base_numbering": 1,
   "nav_menu": {},
   "number_sections": true,
   "sideBar": true,
   "skip_h1_title": false,
   "title_cell": "Table of Contents",
   "title_sidebar": "Contents",
   "toc_cell": false,
   "toc_position": {},
   "toc_section_display": true,
   "toc_window_display": false
  },
  "varInspector": {
   "cols": {
    "lenName": 16,
    "lenType": 16,
    "lenVar": 40
   },
   "kernels_config": {
    "python": {
     "delete_cmd_postfix": "",
     "delete_cmd_prefix": "del ",
     "library": "var_list.py",
     "varRefreshCmd": "print(var_dic_list())"
    },
    "r": {
     "delete_cmd_postfix": ") ",
     "delete_cmd_prefix": "rm(",
     "library": "var_list.r",
     "varRefreshCmd": "cat(var_dic_list()) "
    }
   },
   "types_to_exclude": [
    "module",
    "function",
    "builtin_function_or_method",
    "instance",
    "_Feature"
   ],
   "window_display": false
  }
 },
 "nbformat": 4,
 "nbformat_minor": 5
}
