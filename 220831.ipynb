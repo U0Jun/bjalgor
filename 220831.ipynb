{
 "cells": [
  {
   "cell_type": "code",
   "execution_count": 3,
   "metadata": {},
   "outputs": [
    {
     "name": "stdout",
     "output_type": "stream",
     "text": [
      "300/1\n",
      "300/1\n",
      "1/1\n"
     ]
    }
   ],
   "source": [
    "# 3036\n",
    "import math\n",
    "N = int(input())\n",
    "l = list(map(int, input().split()))\n",
    "n = 0\n",
    "\n",
    "num = 1\n",
    "den = 1\n",
    "for i in range(len(l)):\n",
    "    if i == 0: continue\n",
    "    else:\n",
    "        num = num*l[i-1]\n",
    "        den = den*l[i]\n",
    "        print(f'{int(num/math.gcd(num,den))}/{int(den/math.gcd(num,den))}')"
   ]
  },
  {
   "cell_type": "code",
   "execution_count": 17,
   "metadata": {},
   "outputs": [
    {
     "name": "stdout",
     "output_type": "stream",
     "text": [
      "270288240945436551019305908463402626133344424635003137400602091930237777421360473851797325724922730460543802875678603168471867361078540080081808473288115110060581000433119131429793939577717447508918397345219433071259594386723113371250852722071254367796680880783950950640887679135140232038177361100800\n",
      "270288240945436569515614693625975275496152008446548287007392875106625428705522193898612483924502370165362606085021546104802209750050679917549894219699518475423665484263751733356162464079737887344364574161119497604571044985756287880514600994219426752366915856603136862602484428109296905863799821216320\n"
     ]
    }
   ],
   "source": [
    "# 11050\n",
    "N, K = map(int, input().split())\n",
    "\n",
    "num = 1\n",
    "den = 1\n",
    "for _ in range(K):\n",
    "    num = num*N\n",
    "    N = N-1\n",
    "\n",
    "for _ in range(K):\n",
    "    den = den*K\n",
    "    K = K-1\n",
    "    \n",
    "print(int(num/den))"
   ]
  },
  {
   "cell_type": "code",
   "execution_count": 15,
   "metadata": {},
   "outputs": [
    {
     "name": "stdout",
     "output_type": "stream",
     "text": [
      "8662\n"
     ]
    }
   ],
   "source": [
    "# 11051\n",
    "\n",
    "N, K = map(int, input().split())\n",
    "\n",
    "num = 1\n",
    "den = 1\n",
    "for _ in range(K):\n",
    "    num = num*N\n",
    "    N = N-1\n",
    "\n",
    "for _ in range(K):\n",
    "    den = den*K\n",
    "    K = K-1\n",
    "    \n",
    "print((num//den)%10007)\n",
    "\n",
    "# 나눌 때 자릿 수 및 부동 소수점으로 인한 오차 신경쓰기!!"
   ]
  },
  {
   "cell_type": "code",
   "execution_count": null,
   "metadata": {},
   "outputs": [],
   "source": [
    "print(1000)"
   ]
  }
 ],
 "metadata": {
  "kernelspec": {
   "display_name": "Python 3.8.8 ('base')",
   "language": "python",
   "name": "python3"
  },
  "language_info": {
   "codemirror_mode": {
    "name": "ipython",
    "version": 3
   },
   "file_extension": ".py",
   "mimetype": "text/x-python",
   "name": "python",
   "nbconvert_exporter": "python",
   "pygments_lexer": "ipython3",
   "version": "3.8.8"
  },
  "orig_nbformat": 4,
  "vscode": {
   "interpreter": {
    "hash": "6cc7455720652bebfd4a10eed685e54721d3b8ad110f1c429458684b8192be96"
   }
  }
 },
 "nbformat": 4,
 "nbformat_minor": 2
}
