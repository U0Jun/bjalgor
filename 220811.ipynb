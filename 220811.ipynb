{
 "cells": [
  {
   "cell_type": "code",
   "execution_count": 3,
   "id": "f4326642",
   "metadata": {},
   "outputs": [
    {
     "name": "stdout",
     "output_type": "stream",
     "text": [
      "1 1 1 0 0 0\n"
     ]
    },
    {
     "data": {
      "text/plain": [
       "\"\\nimport sys\\nN = int(sys.stdin.readline().rstrip())\\nn_list1 = list(map(int, sys.stdin.readline().rstrip().split()))\\nn_list1 = {n_list1[i] : i for i in range(len(n_list1))}\\nM = int(sys.stdin.readline().rstrip())\\nn_list2 = list(map(int, sys.stdin.readline().rstrip().split()))\\n\\nprint(' '.join(map(str,[1 if key in n_list1 else 0 for key in n_list2])))\\n\""
      ]
     },
     "execution_count": 3,
     "metadata": {},
     "output_type": "execute_result"
    }
   ],
   "source": [
    "# 10815\n",
    "\n",
    "N = int(input())\n",
    "n_list1 = list(map(int, input().split()))\n",
    "n_list1 = {n_list1[i] : i for i in range(len(n_list1))}\n",
    "M = int(input())\n",
    "n_list2 = list(map(int, input().split()))\n",
    "\n",
    "\n",
    "print(' '.join(map(str,[1 if key in n_list1 else 0 for key in n_list2])))\n",
    "\"\"\"\n",
    "import sys\n",
    "N = int(sys.stdin.readline().rstrip())\n",
    "n_list1 = list(map(int, sys.stdin.readline().rstrip().split()))\n",
    "n_list1 = {n_list1[i] : i for i in range(len(n_list1))}\n",
    "M = int(sys.stdin.readline().rstrip())\n",
    "n_list2 = list(map(int, sys.stdin.readline().rstrip().split()))\n",
    "\n",
    "print(' '.join(map(str,[1 if key in n_list1 else 0 for key in n_list2])))\n",
    "\"\"\""
   ]
  },
  {
   "cell_type": "code",
   "execution_count": 1,
   "id": "1b329d68",
   "metadata": {},
   "outputs": [],
   "source": [
    "# 14425\n",
    "import sys\n",
    "N, M = map(int, input().split())\n",
    "\n",
    "n_words = [str(input()) for i in range(N)]\n",
    "n_words = {n_words[i] : i for i in range(len(n_words))}\n",
    "m_words = [str(input()) for i in range(M)]\n",
    "\n",
    "cnt = 0\n",
    "for i in m_words:\n",
    "    if i in n_words: cnt += 1\n",
    "    \n",
    "print(cnt)\n",
    "\n",
    "\"\"\"\n",
    "import sys\n",
    "N, M = map(int, sys.stdin.readline().rstrip().split())\n",
    "\n",
    "n_words = [str(sys.stdin.readline().rstrip()) for i in range(N)]\n",
    "n_words = {n_words[i] : i for i in range(len(n_words))}\n",
    "m_words = [str(sys.stdin.readline().rstrip()) for i in range(M)]\n",
    "\n",
    "cnt = 0\n",
    "for i in m_words:\n",
    "    if i in n_words: cnt += 1\n",
    "    \n",
    "print(cnt)\n",
    "\"\"\""
   ]
  },
  {
   "cell_type": "code",
   "execution_count": 4,
   "id": "cd035b29",
   "metadata": {},
   "outputs": [
    {
     "name": "stdout",
     "output_type": "stream",
     "text": [
      "{'Bulbasaur': 1, 'Ivysaur': 2}\n",
      "{1: 'Bulbasaur', 2: 'Ivysaur'}\n",
      "1\n"
     ]
    },
    {
     "data": {
      "text/plain": [
       "'\\nimport sys\\nN, M = map(int, sys.stdin.readline().rstrip().split())\\n\\nn_list = [str(sys.stdin.readline().rstrip()) for _ in range(N)]\\nn_list1 = {n_list[i] : i+1 for i in range(len(n_list))}\\nn_list2 = {i+1 : n_list[i] for i in range(len(n_list))}\\nm_list = [str(sys.stdin.readline().rstrip()) for _ in range(M)]\\n\\nfor i in m_list:\\n    if i.isdigit():\\n        print(n_list2.get(i))\\n        \\n    else:\\n        print(n_list1.get(i))\\n    \\n'"
      ]
     },
     "execution_count": 4,
     "metadata": {},
     "output_type": "execute_result"
    }
   ],
   "source": [
    "# 1620\n",
    "\n",
    "N, M = map(int, input().split())\n",
    "\n",
    "n_list = [str(input()) for _ in range(N)]\n",
    "n_list1 = {n_list[i] : i+1 for i in range(len(n_list))}\n",
    "n_list2 = {int(i+1) : n_list[i] for i in range(len(n_list))}\n",
    "m_list = [str(input()) for _ in range(M)]\n",
    "\n",
    "for i in m_list:\n",
    "    if i.isdigit():\n",
    "        print(n_list2.get(int(i)))\n",
    "        \n",
    "    else:\n",
    "        print(n_list1.get(i))\n",
    "        \n",
    "\"\"\"\n",
    "import sys\n",
    "N, M = map(int, sys.stdin.readline().rstrip().split())\n",
    "\n",
    "n_list = [str(sys.stdin.readline().rstrip()) for _ in range(N)]\n",
    "n_list1 = {n_list[i] : i+1 for i in range(len(n_list))}\n",
    "n_list2 = {i+1 : n_list[i] for i in range(len(n_list))}\n",
    "m_list = [str(sys.stdin.readline().rstrip()) for _ in range(M)]\n",
    "\n",
    "for i in m_list:\n",
    "    if i.isdigit():\n",
    "        print(n_list2.get(int(i)))\n",
    "        \n",
    "    else:\n",
    "        print(n_list1.get(i))\n",
    "    \n",
    "\"\"\""
   ]
  }
 ],
 "metadata": {
  "kernelspec": {
   "display_name": "Python 3.9.6 64-bit",
   "language": "python",
   "name": "python3"
  },
  "language_info": {
   "codemirror_mode": {
    "name": "ipython",
    "version": 3
   },
   "file_extension": ".py",
   "mimetype": "text/x-python",
   "name": "python",
   "nbconvert_exporter": "python",
   "pygments_lexer": "ipython3",
   "version": "3.9.6"
  },
  "toc": {
   "base_numbering": 1,
   "nav_menu": {},
   "number_sections": true,
   "sideBar": true,
   "skip_h1_title": false,
   "title_cell": "Table of Contents",
   "title_sidebar": "Contents",
   "toc_cell": false,
   "toc_position": {},
   "toc_section_display": true,
   "toc_window_display": false
  },
  "varInspector": {
   "cols": {
    "lenName": 16,
    "lenType": 16,
    "lenVar": 40
   },
   "kernels_config": {
    "python": {
     "delete_cmd_postfix": "",
     "delete_cmd_prefix": "del ",
     "library": "var_list.py",
     "varRefreshCmd": "print(var_dic_list())"
    },
    "r": {
     "delete_cmd_postfix": ") ",
     "delete_cmd_prefix": "rm(",
     "library": "var_list.r",
     "varRefreshCmd": "cat(var_dic_list()) "
    }
   },
   "types_to_exclude": [
    "module",
    "function",
    "builtin_function_or_method",
    "instance",
    "_Feature"
   ],
   "window_display": false
  },
  "vscode": {
   "interpreter": {
    "hash": "e1db57dd4d9244a4017411a446f80bc3d6a71af38486fae30b5853833e574e6f"
   }
  }
 },
 "nbformat": 4,
 "nbformat_minor": 5
}
