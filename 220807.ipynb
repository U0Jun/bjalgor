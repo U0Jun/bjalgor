{
 "cells": [
  {
   "cell_type": "code",
   "execution_count": 1,
   "id": "d5bf8570",
   "metadata": {},
   "outputs": [
    {
     "name": "stdout",
     "output_type": "stream",
     "text": [
      "5\n",
      "5\n",
      "23\n",
      "1\n",
      "5\n",
      "3\n",
      "1\n",
      "3\n",
      "5\n",
      "5\n",
      "23\n"
     ]
    }
   ],
   "source": [
    "# 2750\n",
    "\n",
    "N = int(input())\n",
    "\n",
    "l = []\n",
    "for i in range(N):\n",
    "    l.append(int(input()))\n",
    "\n",
    "l.sort()\n",
    "for i in l:\n",
    "    print(i)"
   ]
  },
  {
   "cell_type": "code",
   "execution_count": 75,
   "id": "e587d37e",
   "metadata": {},
   "outputs": [
    {
     "ename": "ValueError",
     "evalue": "invalid literal for int() with base 10: ''",
     "output_type": "error",
     "traceback": [
      "\u001b[1;31m---------------------------------------------------------------------------\u001b[0m",
      "\u001b[1;31mValueError\u001b[0m                                Traceback (most recent call last)",
      "\u001b[1;32m<ipython-input-75-96a510fce981>\u001b[0m in \u001b[0;36m<module>\u001b[1;34m\u001b[0m\n\u001b[0;32m      3\u001b[0m \u001b[1;32mimport\u001b[0m \u001b[0msys\u001b[0m\u001b[1;33m\u001b[0m\u001b[1;33m\u001b[0m\u001b[0m\n\u001b[0;32m      4\u001b[0m \u001b[1;33m\u001b[0m\u001b[0m\n\u001b[1;32m----> 5\u001b[1;33m \u001b[0mN\u001b[0m \u001b[1;33m=\u001b[0m \u001b[0mint\u001b[0m\u001b[1;33m(\u001b[0m\u001b[0msys\u001b[0m\u001b[1;33m.\u001b[0m\u001b[0mstdin\u001b[0m\u001b[1;33m.\u001b[0m\u001b[0mreadline\u001b[0m\u001b[1;33m(\u001b[0m\u001b[1;33m)\u001b[0m\u001b[1;33m)\u001b[0m\u001b[1;33m\u001b[0m\u001b[1;33m\u001b[0m\u001b[0m\n\u001b[0m\u001b[0;32m      6\u001b[0m \u001b[1;33m\u001b[0m\u001b[0m\n\u001b[0;32m      7\u001b[0m \u001b[0ml\u001b[0m \u001b[1;33m=\u001b[0m \u001b[1;33m[\u001b[0m\u001b[1;33m]\u001b[0m\u001b[1;33m\u001b[0m\u001b[1;33m\u001b[0m\u001b[0m\n",
      "\u001b[1;31mValueError\u001b[0m: invalid literal for int() with base 10: ''"
     ]
    }
   ],
   "source": [
    "# 2751\n",
    "\n",
    "import sys\n",
    "\n",
    "N = int(input())\n",
    "\n",
    "l = []\n",
    "for i in range(N):\n",
    "    if i == 0: l.append(int(input()));\n",
    "    else:\n",
    "        tmp = int(input())\n",
    "        start = 0\n",
    "        end = len(l)\n",
    "        while(start <= end):\n",
    "            mid = (start+end)//2\n",
    "            if tmp < l[mid]:\n",
    "                if start == end:\n",
    "                    if tmp <= l[mid]:\n",
    "                        l = l[0:mid] + [tmp] + l[mid:]\n",
    "                        break\n",
    "                    else:\n",
    "                        l = l[0:mid+1] + [tmp] + l[mid+1:]\n",
    "                        break\n",
    "                else:\n",
    "                    if mid-1 < start:\n",
    "                        end = start\n",
    "                    else:\n",
    "                        end = mid - 1\n",
    "                \n",
    "            elif tmp > l[mid]:\n",
    "                if start == end:\n",
    "                    if tmp <= l[mid]:\n",
    "                        l = l[0:mid] + [tmp] + l[mid:]\n",
    "                        break\n",
    "                    else:\n",
    "                        l = l[0:mid+1] + [tmp] + l[mid+1:]\n",
    "                        break\n",
    "                    \n",
    "                else :\n",
    "                    if mid+1 >= end:\n",
    "                        end = start\n",
    "                    else:\n",
    "                        start = mid + 1\n",
    "    \n",
    "            else:\n",
    "                l = l[0:(start+end)//2] + [tmp] + l[(start+end)//2:]\n",
    "                break\n",
    "\n",
    "\n",
    "print('\\n'.join(map(str, l)))"
   ]
  },
  {
   "cell_type": "code",
   "execution_count": 76,
   "id": "5db3774a",
   "metadata": {},
   "outputs": [
    {
     "ename": "ValueError",
     "evalue": "invalid literal for int() with base 10: ''",
     "output_type": "error",
     "traceback": [
      "\u001b[1;31m---------------------------------------------------------------------------\u001b[0m",
      "\u001b[1;31mValueError\u001b[0m                                Traceback (most recent call last)",
      "\u001b[1;32m<ipython-input-76-6ca42109c329>\u001b[0m in \u001b[0;36m<module>\u001b[1;34m\u001b[0m\n\u001b[0;32m      2\u001b[0m \u001b[1;32mimport\u001b[0m \u001b[0msys\u001b[0m\u001b[1;33m\u001b[0m\u001b[1;33m\u001b[0m\u001b[0m\n\u001b[0;32m      3\u001b[0m \u001b[1;33m\u001b[0m\u001b[0m\n\u001b[1;32m----> 4\u001b[1;33m \u001b[0mN\u001b[0m \u001b[1;33m=\u001b[0m \u001b[0mint\u001b[0m\u001b[1;33m(\u001b[0m\u001b[0msys\u001b[0m\u001b[1;33m.\u001b[0m\u001b[0mstdin\u001b[0m\u001b[1;33m.\u001b[0m\u001b[0mreadline\u001b[0m\u001b[1;33m(\u001b[0m\u001b[1;33m)\u001b[0m\u001b[1;33m)\u001b[0m\u001b[1;33m\u001b[0m\u001b[1;33m\u001b[0m\u001b[0m\n\u001b[0m\u001b[0;32m      5\u001b[0m \u001b[1;33m\u001b[0m\u001b[0m\n\u001b[0;32m      6\u001b[0m \u001b[0ml\u001b[0m \u001b[1;33m=\u001b[0m \u001b[1;33m[\u001b[0m\u001b[1;33m]\u001b[0m\u001b[1;33m\u001b[0m\u001b[1;33m\u001b[0m\u001b[0m\n",
      "\u001b[1;31mValueError\u001b[0m: invalid literal for int() with base 10: ''"
     ]
    }
   ],
   "source": [
    "# 2751\n",
    "import sys\n",
    "\n",
    "N = int(sys.stdin.readline)\n",
    "\n",
    "l = []\n",
    "for i in range(N):\n",
    "    if i == 0: l.append(int(sys.stdin.readline));\n",
    "    else:\n",
    "        tmp = int(sys.stdin.readline)\n",
    "        start = 0\n",
    "        end = len(l)\n",
    "        while(start <= end):\n",
    "            mid = (start+end)//2\n",
    "            if tmp < l[mid]:\n",
    "                if start == end:\n",
    "                    if tmp <= l[mid]:\n",
    "                        l = l[0:mid] + [tmp] + l[mid:]\n",
    "                        break\n",
    "                    else:\n",
    "                        l = l[0:mid+1] + [tmp] + l[mid+1:]\n",
    "                        break\n",
    "                else:\n",
    "                    if mid-1 < start:\n",
    "                        end = start\n",
    "                    else:\n",
    "                        end = mid - 1\n",
    "                \n",
    "            elif tmp > l[mid]:\n",
    "                if start == end:\n",
    "                    if tmp <= l[mid]:\n",
    "                        l = l[0:mid] + [tmp] + l[mid:]\n",
    "                        break\n",
    "                    else:\n",
    "                        l = l[0:mid+1] + [tmp] + l[mid+1:]\n",
    "                        break\n",
    "                    \n",
    "                else :\n",
    "                    if mid+1 >= end:\n",
    "                        end = start\n",
    "                    else:\n",
    "                        start = mid + 1\n",
    "    \n",
    "            else:\n",
    "                l = l[0:(start+end)//2] + [tmp] + l[(start+end)//2:]\n",
    "                break\n",
    "\n",
    "\n",
    "print('\\n'.join(map(str, l)))"
   ]
  }
 ],
 "metadata": {
  "kernelspec": {
   "display_name": "Python 3",
   "language": "python",
   "name": "python3"
  },
  "language_info": {
   "codemirror_mode": {
    "name": "ipython",
    "version": 3
   },
   "file_extension": ".py",
   "mimetype": "text/x-python",
   "name": "python",
   "nbconvert_exporter": "python",
   "pygments_lexer": "ipython3",
   "version": "3.8.8"
  },
  "toc": {
   "base_numbering": 1,
   "nav_menu": {},
   "number_sections": true,
   "sideBar": true,
   "skip_h1_title": false,
   "title_cell": "Table of Contents",
   "title_sidebar": "Contents",
   "toc_cell": false,
   "toc_position": {},
   "toc_section_display": true,
   "toc_window_display": false
  },
  "varInspector": {
   "cols": {
    "lenName": 16,
    "lenType": 16,
    "lenVar": 40
   },
   "kernels_config": {
    "python": {
     "delete_cmd_postfix": "",
     "delete_cmd_prefix": "del ",
     "library": "var_list.py",
     "varRefreshCmd": "print(var_dic_list())"
    },
    "r": {
     "delete_cmd_postfix": ") ",
     "delete_cmd_prefix": "rm(",
     "library": "var_list.r",
     "varRefreshCmd": "cat(var_dic_list()) "
    }
   },
   "types_to_exclude": [
    "module",
    "function",
    "builtin_function_or_method",
    "instance",
    "_Feature"
   ],
   "window_display": false
  }
 },
 "nbformat": 4,
 "nbformat_minor": 5
}
