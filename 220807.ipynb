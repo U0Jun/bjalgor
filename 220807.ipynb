{
 "cells": [
  {
   "cell_type": "code",
   "execution_count": 1,
   "id": "d5bf8570",
   "metadata": {},
   "outputs": [
    {
     "name": "stdout",
     "output_type": "stream",
     "text": [
      "5\n",
      "5\n",
      "23\n",
      "1\n",
      "5\n",
      "3\n",
      "1\n",
      "3\n",
      "5\n",
      "5\n",
      "23\n"
     ]
    }
   ],
   "source": [
    "# 2750\n",
    "\n",
    "N = int(input())\n",
    "\n",
    "l = []\n",
    "for i in range(N):\n",
    "    l.append(int(input()))\n",
    "\n",
    "l.sort()\n",
    "for i in l:\n",
    "    print(i)"
   ]
  },
  {
   "cell_type": "code",
   "execution_count": 75,
   "id": "e587d37e",
   "metadata": {},
   "outputs": [
    {
     "ename": "ValueError",
     "evalue": "invalid literal for int() with base 10: ''",
     "output_type": "error",
     "traceback": [
      "\u001b[1;31m---------------------------------------------------------------------------\u001b[0m",
      "\u001b[1;31mValueError\u001b[0m                                Traceback (most recent call last)",
      "\u001b[1;32m<ipython-input-75-96a510fce981>\u001b[0m in \u001b[0;36m<module>\u001b[1;34m\u001b[0m\n\u001b[0;32m      3\u001b[0m \u001b[1;32mimport\u001b[0m \u001b[0msys\u001b[0m\u001b[1;33m\u001b[0m\u001b[1;33m\u001b[0m\u001b[0m\n\u001b[0;32m      4\u001b[0m \u001b[1;33m\u001b[0m\u001b[0m\n\u001b[1;32m----> 5\u001b[1;33m \u001b[0mN\u001b[0m \u001b[1;33m=\u001b[0m \u001b[0mint\u001b[0m\u001b[1;33m(\u001b[0m\u001b[0msys\u001b[0m\u001b[1;33m.\u001b[0m\u001b[0mstdin\u001b[0m\u001b[1;33m.\u001b[0m\u001b[0mreadline\u001b[0m\u001b[1;33m(\u001b[0m\u001b[1;33m)\u001b[0m\u001b[1;33m)\u001b[0m\u001b[1;33m\u001b[0m\u001b[1;33m\u001b[0m\u001b[0m\n\u001b[0m\u001b[0;32m      6\u001b[0m \u001b[1;33m\u001b[0m\u001b[0m\n\u001b[0;32m      7\u001b[0m \u001b[0ml\u001b[0m \u001b[1;33m=\u001b[0m \u001b[1;33m[\u001b[0m\u001b[1;33m]\u001b[0m\u001b[1;33m\u001b[0m\u001b[1;33m\u001b[0m\u001b[0m\n",
      "\u001b[1;31mValueError\u001b[0m: invalid literal for int() with base 10: ''"
     ]
    }
   ],
   "source": [
    "# 2751\n",
    "\n",
    "import sys\n",
    "\n",
    "N = int(input())\n",
    "\n",
    "l = []\n",
    "for i in range(N):\n",
    "    if i == 0: l.append(int(input()));\n",
    "    else:\n",
    "        tmp = int(input())\n",
    "        start = 0\n",
    "        end = len(l)\n",
    "        while(start <= end):\n",
    "            mid = (start+end)//2\n",
    "            if tmp < l[mid]:\n",
    "                if start == end:\n",
    "                    if tmp <= l[mid]:\n",
    "                        l = l[0:mid] + [tmp] + l[mid:]\n",
    "                        break\n",
    "                    else:\n",
    "                        l = l[0:mid+1] + [tmp] + l[mid+1:]\n",
    "                        break\n",
    "                else:\n",
    "                    if mid-1 < start:\n",
    "                        end = start\n",
    "                    else:\n",
    "                        end = mid - 1\n",
    "                \n",
    "            elif tmp > l[mid]:\n",
    "                if start == end:\n",
    "                    if tmp <= l[mid]:\n",
    "                        l = l[0:mid] + [tmp] + l[mid:]\n",
    "                        break\n",
    "                    else:\n",
    "                        l = l[0:mid+1] + [tmp] + l[mid+1:]\n",
    "                        break\n",
    "                    \n",
    "                else :\n",
    "                    if mid+1 >= end:\n",
    "                        end = start\n",
    "                    else:\n",
    "                        start = mid + 1\n",
    "    \n",
    "            else:\n",
    "                l = l[0:(start+end)//2] + [tmp] + l[(start+end)//2:]\n",
    "                break\n",
    "\n",
    "\n",
    "print('\\n'.join(map(str, l)))"
   ]
  },
  {
   "cell_type": "code",
   "execution_count": 76,
   "id": "5db3774a",
   "metadata": {
    "scrolled": true
   },
   "outputs": [
    {
     "ename": "ValueError",
     "evalue": "invalid literal for int() with base 10: ''",
     "output_type": "error",
     "traceback": [
      "\u001b[1;31m---------------------------------------------------------------------------\u001b[0m",
      "\u001b[1;31mValueError\u001b[0m                                Traceback (most recent call last)",
      "\u001b[1;32m<ipython-input-76-6ca42109c329>\u001b[0m in \u001b[0;36m<module>\u001b[1;34m\u001b[0m\n\u001b[0;32m      2\u001b[0m \u001b[1;32mimport\u001b[0m \u001b[0msys\u001b[0m\u001b[1;33m\u001b[0m\u001b[1;33m\u001b[0m\u001b[0m\n\u001b[0;32m      3\u001b[0m \u001b[1;33m\u001b[0m\u001b[0m\n\u001b[1;32m----> 4\u001b[1;33m \u001b[0mN\u001b[0m \u001b[1;33m=\u001b[0m \u001b[0mint\u001b[0m\u001b[1;33m(\u001b[0m\u001b[0msys\u001b[0m\u001b[1;33m.\u001b[0m\u001b[0mstdin\u001b[0m\u001b[1;33m.\u001b[0m\u001b[0mreadline\u001b[0m\u001b[1;33m(\u001b[0m\u001b[1;33m)\u001b[0m\u001b[1;33m)\u001b[0m\u001b[1;33m\u001b[0m\u001b[1;33m\u001b[0m\u001b[0m\n\u001b[0m\u001b[0;32m      5\u001b[0m \u001b[1;33m\u001b[0m\u001b[0m\n\u001b[0;32m      6\u001b[0m \u001b[0ml\u001b[0m \u001b[1;33m=\u001b[0m \u001b[1;33m[\u001b[0m\u001b[1;33m]\u001b[0m\u001b[1;33m\u001b[0m\u001b[1;33m\u001b[0m\u001b[0m\n",
      "\u001b[1;31mValueError\u001b[0m: invalid literal for int() with base 10: ''"
     ]
    }
   ],
   "source": [
    "# 2751\n",
    "import sys\n",
    "\n",
    "N = int(sys.stdin.readline)\n",
    "\n",
    "l = []\n",
    "for i in range(N):\n",
    "    if i == 0: l.append(int(sys.stdin.readline));\n",
    "    else:\n",
    "        tmp = int(sys.stdin.readline)\n",
    "        start = 0\n",
    "        end = len(l)\n",
    "        while(start <= end):\n",
    "            mid = (start+end)//2\n",
    "            if tmp < l[mid]:\n",
    "                if start == end:\n",
    "                    if tmp <= l[mid]:\n",
    "                        l = l[0:mid] + [tmp] + l[mid:]\n",
    "                        break\n",
    "                    else:\n",
    "                        l = l[0:mid+1] + [tmp] + l[mid+1:]\n",
    "                        break\n",
    "                else:\n",
    "                    if mid-1 < start:\n",
    "                        end = start\n",
    "                    else:\n",
    "                        end = mid - 1\n",
    "                \n",
    "            elif tmp > l[mid]:\n",
    "                if start == end:\n",
    "                    if tmp <= l[mid]:\n",
    "                        l = l[0:mid] + [tmp] + l[mid:]\n",
    "                        break\n",
    "                    else:\n",
    "                        l = l[0:mid+1] + [tmp] + l[mid+1:]\n",
    "                        break\n",
    "                    \n",
    "                else :\n",
    "                    if mid+1 >= end:\n",
    "                        end = start\n",
    "                    else:\n",
    "                        start = mid + 1\n",
    "    \n",
    "            else:\n",
    "                l = l[0:(start+end)//2] + [tmp] + l[(start+end)//2:]\n",
    "                break\n",
    "\n",
    "\n",
    "print('\\n'.join(map(str, l)))"
   ]
  },
  {
   "cell_type": "code",
   "execution_count": 1,
   "id": "5190a4cc",
   "metadata": {},
   "outputs": [
    {
     "name": "stdout",
     "output_type": "stream",
     "text": [
      "5\n",
      "1\n",
      "3\n",
      "23\n",
      "1\n",
      "2\n",
      "0\n",
      "0\n",
      "0\n",
      "0\n",
      "0\n"
     ]
    }
   ],
   "source": [
    "# 10989\n",
    "\n",
    "import sys\n",
    "\n",
    "n = int(sys.stdin.readline())\n",
    "num_list = [0] * 10001\n",
    "\n",
    "for _ in range(n):\n",
    "    num_list[int(sys.stdin.readline())] += 1\n",
    "\n",
    "for i in range(10001):\n",
    "    if num_list[i] != 0:\n",
    "        for j in range(num_list[i]):\n",
    "            print(i)"
   ]
  },
  {
   "cell_type": "code",
   "execution_count": 2,
   "id": "aad74777",
   "metadata": {},
   "outputs": [
    {
     "name": "stdout",
     "output_type": "stream",
     "text": [
      "5 2\n",
      "100 76 85 93 98\n",
      "98\n"
     ]
    }
   ],
   "source": [
    "# 25305\n",
    "\n",
    "N, k = map(int, input().split(' '))\n",
    "\n",
    "score = list(map(int, input().split(' ')))\n",
    "score.sort(reverse= True)\n",
    "\n",
    "print(score[k-1])"
   ]
  },
  {
   "cell_type": "code",
   "execution_count": 25,
   "id": "38fcf763",
   "metadata": {},
   "outputs": [
    {
     "name": "stdout",
     "output_type": "stream",
     "text": [
      "7\n",
      "1\n",
      "2\n",
      "2\n",
      "3\n",
      "4\n",
      "4\n",
      "5\n",
      "3\n",
      "3\n",
      "4\n",
      "4\n"
     ]
    }
   ],
   "source": [
    "# 2108\n",
    "from collections import Counter\n",
    "\n",
    "N = int(input())\n",
    "num = []\n",
    "for i in range(N):\n",
    "    num.append(int(input()))\n",
    "\n",
    "num.sort()\n",
    "\n",
    "# 최빈값\n",
    "mode = Counter(num).most_common()\n",
    "\n",
    "print(round(sum(num)/N))\n",
    "print(num[N//2])\n",
    "print(mode[1][0] if len(mode) > 1 and mode[0][1] == mode[1][1] else mode[0][0])\n",
    "print(num[N-1]-num[0] if len(num) > 0 else 0)\n",
    "\n",
    "\"\"\"\n",
    "import sys\n",
    "from collections import Counter\n",
    "\n",
    "N = int(sys.stdin.readline())\n",
    "num = []\n",
    "for i in range(N):\n",
    "    num.append(int(sys.stdin.readline()))\n",
    "\n",
    "num.sort()\n",
    "\n",
    "# 최빈값\n",
    "mode = Counter(num).most_common()\n",
    "\n",
    "print(round(sum(num)/N))\n",
    "print(num[N//2])\n",
    "print(mode[1][0] if len(mode) > 1 and mode[0][1] == mode[1][1] else mode[0][0])\n",
    "print(num[N-1]-num[0] if len(num) > 0 else 0)\n",
    "\"\"\""
   ]
  },
  {
   "cell_type": "code",
   "execution_count": 30,
   "id": "73da231d",
   "metadata": {},
   "outputs": [
    {
     "name": "stdout",
     "output_type": "stream",
     "text": [
      "999998999\n",
      "999999998\n"
     ]
    }
   ],
   "source": [
    "# # 1427\n",
    "\n",
    "N = list(map(int, list(str(input()))))\n",
    "N.sort(reverse = True)\n",
    "N = map(str, N)\n",
    "print(int(''.join(N)))"
   ]
  },
  {
   "cell_type": "code",
   "execution_count": 37,
   "id": "52a87c99",
   "metadata": {
    "scrolled": true
   },
   "outputs": [
    {
     "name": "stdout",
     "output_type": "stream",
     "text": [
      "5\n",
      "3 4\n",
      "1 1\n",
      "1 -1\n",
      "2 2\n",
      "3 3\n",
      "1 -1\n",
      "1 1\n",
      "2 2\n",
      "3 3\n",
      "3 4\n"
     ]
    }
   ],
   "source": [
    "# 11650\n",
    "import sys\n",
    "N = int(sys.stdin.readline())\n",
    "\n",
    "co = []\n",
    "for _ in range(N):\n",
    "    x, y = map(int, sys.stdin.readline().split(' '))\n",
    "    co.append([x,y])\n",
    "    \n",
    "co.sort()\n",
    "for c in co:\n",
    "    print(f\"{c[0]} {c[1]}\")"
   ]
  },
  {
   "cell_type": "code",
   "execution_count": 41,
   "id": "ddb32040",
   "metadata": {},
   "outputs": [
    {
     "name": "stdout",
     "output_type": "stream",
     "text": [
      "5\n",
      "0 4\n",
      "1 2\n",
      "1 -1\n",
      "2 2\n",
      "3 3\n",
      "1 -1\n",
      "1 2\n",
      "2 2\n",
      "3 3\n",
      "0 4\n"
     ]
    }
   ],
   "source": [
    "# 11651\n",
    "import sys\n",
    "N = int(sys.stdin.readline())\n",
    "\n",
    "co = []\n",
    "for _ in range(N):\n",
    "    x, y = map(int, sys.stdin.readline().split(' '))\n",
    "    co.append([y,x])\n",
    "    \n",
    "co.sort()\n",
    "for c in co:\n",
    "    print(f\"{c[1]} {c[0]}\")\n",
    "    \n",
    "\"\"\"\n",
    "from sys import stdin, stdout\n",
    "\n",
    "def key(i):\n",
    "    x,y=i.split()\n",
    "    return int(x)/1000000+int(y)\n",
    "    # x를 소수점 이하로 만들고, y를 정수자리로\n",
    "    # 그럼 y.000x가 되니, y가 정렬 우선순위 그 다음 x가 우선순위\n",
    "\n",
    "i=stdin.readlines()[1:]\n",
    "\n",
    "stdout.write(''.join(sorted(i, key=lambda x:key(x))))\n",
    "\"\"\""
   ]
  },
  {
   "cell_type": "raw",
   "id": "dad722bd",
   "metadata": {},
   "source": []
  },
  {
   "cell_type": "code",
   "execution_count": 57,
   "id": "39fa8012",
   "metadata": {},
   "outputs": [
    {
     "name": "stdout",
     "output_type": "stream",
     "text": [
      "13\n",
      "but\n",
      "i\n",
      "wont\n",
      "hesitate\n",
      "no\n",
      "more\n",
      "no\n",
      "more\n",
      "it\n",
      "cannot\n",
      "wait\n",
      "im\n",
      "yours\n",
      "i\n",
      "im\n",
      "it\n",
      "no\n",
      "but\n",
      "more\n",
      "wait\n",
      "wont\n",
      "yours\n",
      "cannot\n",
      "hesitate\n"
     ]
    }
   ],
   "source": [
    "# 1181\n",
    "\n",
    "words =set(input() for _ in range(int(input()))) \n",
    "\n",
    "words = sorted(words)\n",
    "words = sorted(words, key = lambda x: len(x))\n",
    "\n",
    "for word in words:\n",
    "    print(word)"
   ]
  },
  {
   "cell_type": "code",
   "execution_count": 81,
   "id": "823693ca",
   "metadata": {},
   "outputs": [
    {
     "name": "stdout",
     "output_type": "stream",
     "text": [
      "3\n",
      "21 Junkyu\n",
      "21 Dohyun\n",
      "20 Sunyoung\n",
      "20 Sunyoung\n",
      "21 Junkyu\n",
      "21 Dohyun\n"
     ]
    },
    {
     "data": {
      "text/plain": [
       "\"\\nimport sys\\nl = []\\nfor i in range(int(sys.stdin.readline())):\\n    age, name = sys.stdin.readline().split(' ')\\n    l.append([int(age), name, i])\\nl = sorted(l, key = lambda x: (x[0], x[2]))\\nfor p in l:\\n    print(p[0], p[1])\\n\""
      ]
     },
     "execution_count": 81,
     "metadata": {},
     "output_type": "execute_result"
    }
   ],
   "source": [
    "# 10814\n",
    "\n",
    "l = []\n",
    "for i in range(int(input())):\n",
    "    age, name = input().split(' ')\n",
    "    l.append([int(age), name, i])\n",
    "l = sorted(l, key = lambda x: (x[0], x[2]))\n",
    "for p in l:\n",
    "    print(p[0], p[1])\n",
    "\"\"\"\n",
    "import sys\n",
    "l = []\n",
    "for i in range(int(sys.stdin.readline().rstrip())):\n",
    "    age, name = sys.stdin.readline().rstrip().split(' ')\n",
    "    l.append([int(age), name, i])\n",
    "l = sorted(l, key = lambda x: (x[0], x[2]))\n",
    "for p in l:\n",
    "    print(p[0], p[1])\n",
    "\"\"\"\n",
    "# sys.stdin.readline() --> .rstrip() 꼭 해줘야함!"
   ]
  },
  {
   "cell_type": "code",
   "execution_count": 96,
   "id": "8358c2d8",
   "metadata": {},
   "outputs": [
    {
     "name": "stdout",
     "output_type": "stream",
     "text": [
      "5\n",
      "2 4 -10 4 -9\n",
      "2 3 0 3 1 "
     ]
    },
    {
     "data": {
      "text/plain": [
       "\"\\nimport sys\\nN = int(sys.stdin.readline().rstrip())\\nn = list(map(int, sys.stdin.readline().rstrip().split(' ')))\\ns = sorted(list(set(n)))\\nc = [s.index(i) for i in n]\\nprint(' '.join(map(str,c)))\\n\""
      ]
     },
     "execution_count": 96,
     "metadata": {},
     "output_type": "execute_result"
    }
   ],
   "source": [
    "# 18870\n",
    "# 좌표 압축\n",
    "# \n",
    "\n",
    "N = int(input())\n",
    "n = list(map(int, input().split(' ')))\n",
    "s = sorted(list(set(n)))\n",
    "c = {s[i] : i for i in range(len(s))} # 리스트.index를 하는 것 보다 딕셔너리로 하는 것이 훨씬 빠름!\n",
    "for key in n:\n",
    "    print(c[key], end =' ')\n",
    "\n",
    "'''\n",
    "import sys\n",
    "N = int(sys.stdin.readline().rstrip())\n",
    "n = list(map(int, sys.stdin.readline().rstrip().split(' ')))\n",
    "s = sorted(list(set(n)))\n",
    "c = {s[i] : i for i in range(len(s))}\n",
    "for key in n:\n",
    "    print(c[key], end =' ')\n",
    "'''"
   ]
  }
 ],
 "metadata": {
  "kernelspec": {
   "display_name": "Python 3",
   "language": "python",
   "name": "python3"
  },
  "language_info": {
   "codemirror_mode": {
    "name": "ipython",
    "version": 3
   },
   "file_extension": ".py",
   "mimetype": "text/x-python",
   "name": "python",
   "nbconvert_exporter": "python",
   "pygments_lexer": "ipython3",
   "version": "3.8.8"
  },
  "toc": {
   "base_numbering": 1,
   "nav_menu": {},
   "number_sections": true,
   "sideBar": true,
   "skip_h1_title": false,
   "title_cell": "Table of Contents",
   "title_sidebar": "Contents",
   "toc_cell": false,
   "toc_position": {},
   "toc_section_display": true,
   "toc_window_display": false
  },
  "varInspector": {
   "cols": {
    "lenName": 16,
    "lenType": 16,
    "lenVar": 40
   },
   "kernels_config": {
    "python": {
     "delete_cmd_postfix": "",
     "delete_cmd_prefix": "del ",
     "library": "var_list.py",
     "varRefreshCmd": "print(var_dic_list())"
    },
    "r": {
     "delete_cmd_postfix": ") ",
     "delete_cmd_prefix": "rm(",
     "library": "var_list.r",
     "varRefreshCmd": "cat(var_dic_list()) "
    }
   },
   "types_to_exclude": [
    "module",
    "function",
    "builtin_function_or_method",
    "instance",
    "_Feature"
   ],
   "window_display": false
  }
 },
 "nbformat": 4,
 "nbformat_minor": 5
}
