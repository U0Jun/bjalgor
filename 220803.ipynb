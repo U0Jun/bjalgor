{
 "cells": [
  {
   "cell_type": "code",
   "execution_count": null,
   "id": "921744f2",
   "metadata": {},
   "outputs": [],
   "source": [
    "# 4948\n",
    "\n",
    "while(True):\n",
    "    n = int(input())\n",
    "    if n == 0: break\n",
    "    \n",
    "    pn = [True]*(2*n+1)\n",
    "    pn[1] = False\n",
    "    \n",
    "    j = int((2*n)**0.5)\n",
    "    \n",
    "    for i in range(2,j+1):\n",
    "        if pn[i]:\n",
    "            for k in range(i+i, 2*n+1, i):\n",
    "                pn[k] = False\n",
    "    \n",
    "    print(sum(pn[n:2*n]))"
   ]
  }
 ],
 "metadata": {
  "kernelspec": {
   "display_name": "Python 3",
   "language": "python",
   "name": "python3"
  },
  "language_info": {
   "codemirror_mode": {
    "name": "ipython",
    "version": 3
   },
   "file_extension": ".py",
   "mimetype": "text/x-python",
   "name": "python",
   "nbconvert_exporter": "python",
   "pygments_lexer": "ipython3",
   "version": "3.8.8"
  },
  "toc": {
   "base_numbering": 1,
   "nav_menu": {},
   "number_sections": true,
   "sideBar": true,
   "skip_h1_title": false,
   "title_cell": "Table of Contents",
   "title_sidebar": "Contents",
   "toc_cell": false,
   "toc_position": {},
   "toc_section_display": true,
   "toc_window_display": false
  },
  "varInspector": {
   "cols": {
    "lenName": 16,
    "lenType": 16,
    "lenVar": 40
   },
   "kernels_config": {
    "python": {
     "delete_cmd_postfix": "",
     "delete_cmd_prefix": "del ",
     "library": "var_list.py",
     "varRefreshCmd": "print(var_dic_list())"
    },
    "r": {
     "delete_cmd_postfix": ") ",
     "delete_cmd_prefix": "rm(",
     "library": "var_list.r",
     "varRefreshCmd": "cat(var_dic_list()) "
    }
   },
   "types_to_exclude": [
    "module",
    "function",
    "builtin_function_or_method",
    "instance",
    "_Feature"
   ],
   "window_display": false
  }
 },
 "nbformat": 4,
 "nbformat_minor": 5
}
