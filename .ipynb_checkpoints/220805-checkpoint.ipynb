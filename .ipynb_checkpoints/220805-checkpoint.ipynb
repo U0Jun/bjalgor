{
 "cells": [
  {
   "cell_type": "code",
   "execution_count": 22,
   "id": "7096e985",
   "metadata": {},
   "outputs": [
    {
     "name": "stdout",
     "output_type": "stream",
     "text": [
      "10 10\n",
      "BBBBBBBBBB\n",
      "BBWBWBWBWB\n",
      "BWBWBWBWBB\n",
      "BBWBWBWBWB\n",
      "BWBWBWBWBB\n",
      "BBWBWBWBWB\n",
      "BWBWBWBWBB\n",
      "BBWBWBWBWB\n",
      "BWBWBWBWBB\n",
      "BBBBBBBBBB\n",
      "0\n"
     ]
    }
   ],
   "source": [
    "# 1018\n",
    "\n",
    "M, N = map(int, input().split(' '))\n",
    "\n",
    "chess = []\n",
    "cnt_list = []\n",
    "\n",
    "\n",
    "for n in range(M):\n",
    "    tmp = list(str(input()))\n",
    "    # not 연산으로 계산 편하게 하기 위해서\n",
    "    chess.append(tmp)    \n",
    "\n",
    "pattern1 = ['WBWBWBWB','BWBWBWBW','WBWBWBWB','BWBWBWBW','WBWBWBWB','BWBWBWBW','WBWBWBWB','BWBWBWBW']\n",
    "pattern2 = ['BWBWBWBW','WBWBWBWB','BWBWBWBW','WBWBWBWB','BWBWBWBW','WBWBWBWB','BWBWBWBW','WBWBWBWB']\n",
    "    \n",
    "for l in range(len(chess)-7):\n",
    "    for s in range(len(chess[l])-7):\n",
    "        t_chess = []\n",
    "        for i in range(l,l+8):\n",
    "            t_chess.append(chess[i][s:s+8])\n",
    "\n",
    "        cnt1 = 0 # 패턴 1과 차이\n",
    "        cnt2 = 0 # 패턴 2와 차이\n",
    "\n",
    "        for m in range(8):\n",
    "            for n in range(8):\n",
    "                if t_chess[m][n] != pattern1[m][n]: cnt1 += 1\n",
    "                if t_chess[m][n] != pattern2[m][n]: cnt2 += 1\n",
    "                        \n",
    "        cnt_list.append(cnt1)\n",
    "        cnt_list.append(cnt2)\n",
    "\n",
    "print(min(cnt_list))"
   ]
  },
  {
   "cell_type": "code",
   "execution_count": 8,
   "id": "ea49de89",
   "metadata": {},
   "outputs": [
    {
     "name": "stdout",
     "output_type": "stream",
     "text": [
      "500\n",
      "166699\n"
     ]
    }
   ],
   "source": [
    "# 1436\n",
    "\n",
    "N = int(input())\n",
    "\n",
    "cnt = 0\n",
    "\n",
    "num = 0\n",
    "while(cnt < N):\n",
    "    if '666' in str(num):\n",
    "        cnt += 1\n",
    "        num += 1\n",
    "        \n",
    "    else:\n",
    "        num += 1\n",
    "\n",
    "print(num-1)\n",
    "\n",
    "\"\"\" 시간 줄인 풀이 ...??\n",
    "# 1436\n",
    "N = int(input())\n",
    "if N==1:\n",
    "    print(666)\n",
    "else:\n",
    "    count = 1\n",
    "    for i in range(2, N+1):\n",
    "        base_title = \"{0}666\".format(i-1)\n",
    "        num_of_extra_six_in_row = 0\n",
    "        for k in range(len(base_title)-3):\n",
    "            if base_title[-4-k]=='6':\n",
    "                num_of_extra_six_in_row += 1\n",
    "            else:\n",
    "                break\n",
    "        count += int(10**num_of_extra_six_in_row)\n",
    "        if count >= N:\n",
    "            break\n",
    "            \n",
    "    if num_of_extra_six_in_row > 0:\n",
    "        base = int(10**num_of_extra_six_in_row)\n",
    "        count -= base\n",
    "        base_title = int(base_title) - int(base_title)%base + (N - count-1)\n",
    "        \n",
    "    print(base_title)\n",
    "\"\"\""
   ]
  }
 ],
 "metadata": {
  "kernelspec": {
   "display_name": "Python 3",
   "language": "python",
   "name": "python3"
  },
  "language_info": {
   "codemirror_mode": {
    "name": "ipython",
    "version": 3
   },
   "file_extension": ".py",
   "mimetype": "text/x-python",
   "name": "python",
   "nbconvert_exporter": "python",
   "pygments_lexer": "ipython3",
   "version": "3.8.8"
  },
  "toc": {
   "base_numbering": 1,
   "nav_menu": {},
   "number_sections": true,
   "sideBar": true,
   "skip_h1_title": false,
   "title_cell": "Table of Contents",
   "title_sidebar": "Contents",
   "toc_cell": false,
   "toc_position": {},
   "toc_section_display": true,
   "toc_window_display": false
  },
  "varInspector": {
   "cols": {
    "lenName": 16,
    "lenType": 16,
    "lenVar": 40
   },
   "kernels_config": {
    "python": {
     "delete_cmd_postfix": "",
     "delete_cmd_prefix": "del ",
     "library": "var_list.py",
     "varRefreshCmd": "print(var_dic_list())"
    },
    "r": {
     "delete_cmd_postfix": ") ",
     "delete_cmd_prefix": "rm(",
     "library": "var_list.r",
     "varRefreshCmd": "cat(var_dic_list()) "
    }
   },
   "types_to_exclude": [
    "module",
    "function",
    "builtin_function_or_method",
    "instance",
    "_Feature"
   ],
   "window_display": false
  }
 },
 "nbformat": 4,
 "nbformat_minor": 5
}
