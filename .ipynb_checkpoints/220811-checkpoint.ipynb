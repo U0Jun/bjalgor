{
 "cells": [
  {
   "cell_type": "code",
   "execution_count": 12,
   "id": "f4326642",
   "metadata": {},
   "outputs": [
    {
     "name": "stdout",
     "output_type": "stream",
     "text": [
      "5\n",
      "6 3 2 10 -10\n",
      "8\n",
      "10 9 -5 2 3 4 5 -10\n",
      "1 0 0 1 1 0 0 1\n"
     ]
    },
    {
     "data": {
      "text/plain": [
       "\"\\nimport sys\\nN = int(sys.stdin.readline().rstrip())\\nn_list1 = list(map(int, sys.stdin.readline().rstrip().split()))\\nM = int(sys.stdin.readline().rstrip())\\nn_list2 = list(map(int, sys.stdin.readline().rstrip().split()))\\n\\nprint(' '.join(map(str,[1 if i in n_list1 else 0 for i in n_list2])))\\n\""
      ]
     },
     "execution_count": 12,
     "metadata": {},
     "output_type": "execute_result"
    }
   ],
   "source": [
    "# 10815\n",
    "\n",
    "N = int(input())\n",
    "n_list1 = list(map(int, input().split()))\n",
    "n_list1 = {n_list1[i] : i for i in range(len(n_list1))}\n",
    "M = int(input())\n",
    "n_list2 = list(map(int, input().split()))\n",
    "\n",
    "\n",
    "print(' '.join(map(str,[1 if key in n_list1 else 0 for key in n_list2])))\n",
    "\"\"\"\n",
    "import sys\n",
    "N = int(sys.stdin.readline().rstrip())\n",
    "n_list1 = list(map(int, sys.stdin.readline().rstrip().split()))\n",
    "n_list1 = {n_list1[i] : i for i in range(len(n_list1))}\n",
    "M = int(sys.stdin.readline().rstrip())\n",
    "n_list2 = list(map(int, sys.stdin.readline().rstrip().split()))\n",
    "\n",
    "print(' '.join(map(str,[1 if key in n_list1 else 0 for key in n_list2])))\n",
    "\"\"\""
   ]
  },
  {
   "cell_type": "code",
   "execution_count": null,
   "id": "1b329d68",
   "metadata": {},
   "outputs": [],
   "source": [
    "# 14425\n",
    "\n",
    "N, M = int(input().split())\n",
    "\n"
   ]
  }
 ],
 "metadata": {
  "kernelspec": {
   "display_name": "Python 3",
   "language": "python",
   "name": "python3"
  },
  "language_info": {
   "codemirror_mode": {
    "name": "ipython",
    "version": 3
   },
   "file_extension": ".py",
   "mimetype": "text/x-python",
   "name": "python",
   "nbconvert_exporter": "python",
   "pygments_lexer": "ipython3",
   "version": "3.8.8"
  },
  "toc": {
   "base_numbering": 1,
   "nav_menu": {},
   "number_sections": true,
   "sideBar": true,
   "skip_h1_title": false,
   "title_cell": "Table of Contents",
   "title_sidebar": "Contents",
   "toc_cell": false,
   "toc_position": {},
   "toc_section_display": true,
   "toc_window_display": false
  },
  "varInspector": {
   "cols": {
    "lenName": 16,
    "lenType": 16,
    "lenVar": 40
   },
   "kernels_config": {
    "python": {
     "delete_cmd_postfix": "",
     "delete_cmd_prefix": "del ",
     "library": "var_list.py",
     "varRefreshCmd": "print(var_dic_list())"
    },
    "r": {
     "delete_cmd_postfix": ") ",
     "delete_cmd_prefix": "rm(",
     "library": "var_list.r",
     "varRefreshCmd": "cat(var_dic_list()) "
    }
   },
   "types_to_exclude": [
    "module",
    "function",
    "builtin_function_or_method",
    "instance",
    "_Feature"
   ],
   "window_display": false
  }
 },
 "nbformat": 4,
 "nbformat_minor": 5
}
