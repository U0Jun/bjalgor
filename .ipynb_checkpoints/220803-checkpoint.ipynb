{
 "cells": [
  {
   "cell_type": "code",
   "execution_count": 40,
   "id": "dd143c21",
   "metadata": {},
   "outputs": [
    {
     "name": "stdout",
     "output_type": "stream",
     "text": [
      "1\n",
      "1\n",
      "10\n",
      "4\n",
      "13\n",
      "4\n",
      "10000\n",
      "1033\n",
      "0\n"
     ]
    }
   ],
   "source": [
    "# 4948\n",
    "\n",
    "while(True):\n",
    "    n = int(input())\n",
    "    if n == 0: break\n",
    "    pn = [True]*(2*n+1)\n",
    "    pn[1] = False\n",
    "\n",
    "    j = int((2*n)**0.5)\n",
    "    # 에라토스테네스의 체\n",
    "    for i in range(2,j+1):\n",
    "        if pn[i]:\n",
    "            for k in range(i+i, 2*n+1, i):\n",
    "                pn[k] = False\n",
    "\n",
    "    print(sum(pn[n+1:2*n+1]))"
   ]
  },
  {
   "cell_type": "code",
   "execution_count": 64,
   "id": "c28088c6",
   "metadata": {},
   "outputs": [
    {
     "name": "stdout",
     "output_type": "stream",
     "text": [
      "3\n",
      "8\n",
      "3 5\n",
      "10\n",
      "5 5\n",
      "16\n",
      "5 11\n"
     ]
    }
   ],
   "source": [
    "# 9020\n",
    "\n",
    "T = int(input())\n",
    "\n",
    "for t in range(T):\n",
    "    n = int(input())\n",
    "    pn = [True]*(n+1)\n",
    "    pn[1] = False\n",
    "    \n",
    "    # 에라토스테네스의 체\n",
    "    j = int(n**0.5)\n",
    "    for i in range(2,j+1):\n",
    "        if pn[i]:\n",
    "            for k in range(i+i, n+1, i):\n",
    "                pn[k] = False\n",
    "    n1 = 0\n",
    "    n2 = 0\n",
    "    \n",
    "    # n은 i라 가정하면 n-i이 소수면 파티션!\n",
    "    for i in range(int(n/2), 1, -1):\n",
    "        if pn[i] and pn[n-i]:\n",
    "            print(i, n-i)\n",
    "            break"
   ]
  },
  {
   "cell_type": "code",
   "execution_count": 85,
   "id": "4eb145e5",
   "metadata": {},
   "outputs": [
    {
     "name": "stdout",
     "output_type": "stream",
     "text": [
      "0\n",
      "1\n"
     ]
    }
   ],
   "source": [
    "# 10872 # 팩토리얼\n",
    "\n",
    "def fact(n, result):\n",
    "    if n == 0: return 1\n",
    "    result = result*n\n",
    "    n -= 1\n",
    "    if n > 1: result = fact(n, result)\n",
    "    if n == 1: return int(result)\n",
    "    return result\n",
    "    \n",
    "print(fact(int(input()), 1))"
   ]
  },
  {
   "cell_type": "code",
   "execution_count": 100,
   "id": "4a817d72",
   "metadata": {},
   "outputs": [
    {
     "name": "stdout",
     "output_type": "stream",
     "text": [
      "2\n",
      "1\n"
     ]
    }
   ],
   "source": [
    "# 10870 피보나치 수열\n",
    "\n",
    "# 문제를 읽자\n",
    "def pibo(n1, n2, cnt):\n",
    "    if cnt == 0: return n1\n",
    "    elif cnt == 1: return n2\n",
    "    \n",
    "    result = n1 + n2\n",
    "    cnt -= 1\n",
    "    if cnt > 1 : result = pibo(n2, result, cnt)\n",
    "    return result\n",
    "\n",
    "print(pibo(0, 1, int(input())))"
   ]
  },
  {
   "cell_type": "code",
   "execution_count": 114,
   "id": "5b4089c7",
   "metadata": {},
   "outputs": [
    {
     "name": "stdout",
     "output_type": "stream",
     "text": [
      "2\n",
      "어느 한 컴퓨터공학과 학생이 유명한 교수님을 찾아가 물었다.\n",
      "\"재귀함수가 뭔가요?\"\n",
      "\"잘 들어보게. 옛날옛날 한 산 꼭대기에 이세상 모든 지식을 통달한 선인이 있었어.\n",
      "마을 사람들은 모두 그 선인에게 수많은 질문을 했고, 모두 지혜롭게 대답해 주었지.\n",
      "그의 답은 대부분 옳았다고 하네. 그런데 어느 날, 그 선인에게 한 선비가 찾아와서 물었어.\"\n",
      "____\"재귀함수가 뭔가요?\"\n",
      "____\"잘 들어보게. 옛날옛날 한 산 꼭대기에 이세상 모든 지식을 통달한 선인이 있었어.\n",
      "____마을 사람들은 모두 그 선인에게 수많은 질문을 했고, 모두 지혜롭게 대답해 주었지.\n",
      "____그의 답은 대부분 옳았다고 하네. 그런데 어느 날, 그 선인에게 한 선비가 찾아와서 물었어.\"\n",
      "________\"재귀함수가 뭔가요?\"\n",
      "________\"재귀함수는 자기 자신을 호출하는 함수라네\"\n",
      "________라고 답변하였지.\n",
      "____라고 답변하였지.\n",
      "라고 답변하였지.\n"
     ]
    }
   ],
   "source": [
    "# 17478\n",
    "\n",
    "def recursive(n, cnt):\n",
    "    if cnt == 0: print('어느 한 컴퓨터공학과 학생이 유명한 교수님을 찾아가 물었다.')\n",
    "    \n",
    "    line = '____'*cnt\n",
    "    print(line+'\"재귀함수가 뭔가요?\"')\n",
    "    \n",
    "    if cnt < n :\n",
    "        print(line+'\"잘 들어보게. 옛날옛날 한 산 꼭대기에 이세상 모든 지식을 통달한 선인이 있었어.'\n",
    "              +'\\n'+ line + '마을 사람들은 모두 그 선인에게 수많은 질문을 했고, 모두 지혜롭게 대답해 주었지.'\n",
    "              +'\\n'+ line + '그의 답은 대부분 옳았다고 하네. 그런데 어느 날, 그 선인에게 한 선비가 찾아와서 물었어.\"')\n",
    "        cnt += 1\n",
    "        recursive(n, cnt)\n",
    "    else:\n",
    "        print(line+'\"재귀함수는 자기 자신을 호출하는 함수라네\"')\n",
    "    \n",
    "    print(line+'라고 답변하였지.')\n",
    "    \n",
    "recursive(int(input()), 0)"
   ]
  }
 ],
 "metadata": {
  "kernelspec": {
   "display_name": "Python 3",
   "language": "python",
   "name": "python3"
  },
  "language_info": {
   "codemirror_mode": {
    "name": "ipython",
    "version": 3
   },
   "file_extension": ".py",
   "mimetype": "text/x-python",
   "name": "python",
   "nbconvert_exporter": "python",
   "pygments_lexer": "ipython3",
   "version": "3.8.8"
  },
  "toc": {
   "base_numbering": 1,
   "nav_menu": {},
   "number_sections": true,
   "sideBar": true,
   "skip_h1_title": false,
   "title_cell": "Table of Contents",
   "title_sidebar": "Contents",
   "toc_cell": false,
   "toc_position": {},
   "toc_section_display": true,
   "toc_window_display": false
  },
  "varInspector": {
   "cols": {
    "lenName": 16,
    "lenType": 16,
    "lenVar": 40
   },
   "kernels_config": {
    "python": {
     "delete_cmd_postfix": "",
     "delete_cmd_prefix": "del ",
     "library": "var_list.py",
     "varRefreshCmd": "print(var_dic_list())"
    },
    "r": {
     "delete_cmd_postfix": ") ",
     "delete_cmd_prefix": "rm(",
     "library": "var_list.r",
     "varRefreshCmd": "cat(var_dic_list()) "
    }
   },
   "types_to_exclude": [
    "module",
    "function",
    "builtin_function_or_method",
    "instance",
    "_Feature"
   ],
   "window_display": false
  }
 },
 "nbformat": 4,
 "nbformat_minor": 5
}
