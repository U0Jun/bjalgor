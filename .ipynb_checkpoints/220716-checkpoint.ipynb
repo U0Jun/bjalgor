{
 "cells": [
  {
   "cell_type": "code",
   "execution_count": 6,
   "id": "1d3d0435",
   "metadata": {},
   "outputs": [
    {
     "name": "stdout",
     "output_type": "stream",
     "text": [
      "1\n",
      "49\n"
     ]
    }
   ],
   "source": [
    "# 11654\n",
    "\n",
    "char = input()\n",
    "\n",
    "print(ord(char))"
   ]
  },
  {
   "cell_type": "code",
   "execution_count": 12,
   "id": "b1634927",
   "metadata": {
    "scrolled": true
   },
   "outputs": [
    {
     "name": "stdout",
     "output_type": "stream",
     "text": [
      "5\n",
      "54321\n",
      "15\n"
     ]
    }
   ],
   "source": [
    "#11720\n",
    "\n",
    "N = int(input())\n",
    "# 문자열로 숫자를 받아서 리스트로 변경하면 자동으로 숫자 하나하나 분리\n",
    "# 리스트의 각 요소를 다시 정수로 변경 후 리스트 요소 합\n",
    "nsum = sum(list(map(int, list(str(input())))))\n",
    "\n",
    "# nsum = sum(list(map(int, input())))\n",
    "print(nsum)"
   ]
  },
  {
   "cell_type": "code",
   "execution_count": 24,
   "id": "223ab485",
   "metadata": {
    "scrolled": true
   },
   "outputs": [
    {
     "name": "stdout",
     "output_type": "stream",
     "text": [
      "baekjoon\n",
      "1 0 -1 -1 2 -1 -1 -1 -1 4 3 -1 -1 7 5 -1 -1 -1 -1 -1 -1 -1 -1 -1 -1 -1 "
     ]
    }
   ],
   "source": [
    "#10809\n",
    "\n",
    "import string\n",
    "alpha = list(string.ascii_lowercase)\n",
    "\n",
    "S = str(input())\n",
    "\n",
    "for i in alpha:\n",
    "    if i in S:\n",
    "        print(S.find(i), end = \" \")\n",
    "        # find의 경우 없으면 -1 반환하니까 조건문으로 -1 따로 안빼줘도 작동\n",
    "        \n",
    "    else:\n",
    "        print(-1, end = \" \")"
   ]
  },
  {
   "cell_type": "code",
   "execution_count": 44,
   "id": "067ef2e6",
   "metadata": {
    "scrolled": true
   },
   "outputs": [
    {
     "name": "stdout",
     "output_type": "stream",
     "text": [
      "2\n",
      "3 abc\n",
      "aaabbbccc\n",
      "5 /htp\n",
      "/////hhhhhtttttppppp\n"
     ]
    }
   ],
   "source": [
    "# 2675\n",
    "\n",
    "T = int(input())\n",
    "\n",
    "for t in range(T):\n",
    "    S = input().split(\" \")\n",
    "    for w in S[1]:\n",
    "        print(w*int(S[0]), end = '')\n",
    "    print()"
   ]
  },
  {
   "cell_type": "code",
   "execution_count": 54,
   "id": "0775f916",
   "metadata": {},
   "outputs": [
    {
     "data": {
      "text/plain": [
       "['c', 'd']"
      ]
     },
     "execution_count": 54,
     "metadata": {},
     "output_type": "execute_result"
    }
   ],
   "source": [
    "x = {'a': 10, 'b': 20, 'c': 40, 'd': 40}\n",
    "\n",
    "[k for k,v in x.items() if max(x.values()) == v]"
   ]
  },
  {
   "cell_type": "code",
   "execution_count": 58,
   "id": "841a0fc1",
   "metadata": {},
   "outputs": [
    {
     "name": "stdout",
     "output_type": "stream",
     "text": [
      "zZa\n",
      "Z\n"
     ]
    }
   ],
   "source": [
    "# 1157\n",
    "\n",
    "word = str(input()).upper()\n",
    "\n",
    "w_dict = dict()\n",
    "\n",
    "for w in word:\n",
    "    if w not in w_dict:\n",
    "        w_dict.setdefault(w, 1)\n",
    "    else:\n",
    "        w_dict[w] += 1\n",
    "    \n",
    "top = [k for k,v in w_dict.items() if max(w_dict.values()) == v]\n",
    "if len(top) == 1: print(top[0])\n",
    "else: print('?')"
   ]
  },
  {
   "cell_type": "code",
   "execution_count": 70,
   "id": "246bba3e",
   "metadata": {},
   "outputs": [
    {
     "name": "stdout",
     "output_type": "stream",
     "text": [
      " The Curious Case of Benjamin Button\n",
      "6\n"
     ]
    }
   ],
   "source": [
    "# 1152\n",
    "\n",
    "sentense = input().split(' ')\n",
    "sentense = [word for word in sentense if word != '']\n",
    "print(len(sentense))"
   ]
  },
  {
   "cell_type": "code",
   "execution_count": 87,
   "id": "8567592f",
   "metadata": {},
   "outputs": [
    {
     "name": "stdout",
     "output_type": "stream",
     "text": [
      "123 456\n",
      "654\n"
     ]
    }
   ],
   "source": [
    "# 2908\n",
    "\n",
    "num = input().split(' ')\n",
    "for i in range(len(num)) : num[i] = ''.join(reversed(num[i]))\n",
    "# reversed 메서드만 쓰면 객체 상태, join을 통해 병합해 줘야 함\n",
    "    \n",
    "print(max(map(int,num)))"
   ]
  },
  {
   "cell_type": "code",
   "execution_count": 104,
   "id": "5ab4bc63",
   "metadata": {},
   "outputs": [
    {
     "name": "stdout",
     "output_type": "stream",
     "text": [
      "WA\n",
      "13\n"
     ]
    }
   ],
   "source": [
    "# 5622\n",
    "n_list = ['','','','ABC','DEF','GHI','JKL','MNO','PQRS','TUV','WXYZ']\n",
    "\n",
    "num = str(input())\n",
    "cnt = 0\n",
    "for n in num:\n",
    "    for w in n_list:\n",
    "        if w.find(n) != -1:\n",
    "            cnt += (n_list.index(w))\n",
    "            break\n",
    "print(cnt)"
   ]
  },
  {
   "cell_type": "code",
   "execution_count": 119,
   "id": "1f5f71c1",
   "metadata": {},
   "outputs": [
    {
     "name": "stdout",
     "output_type": "stream",
     "text": [
      "nljj\n",
      "3\n"
     ]
    }
   ],
   "source": [
    "# 2941\n",
    "cr_list = ['c=','c-','dz=','d-','lj','nj','s=','z=']\n",
    "\n",
    "word = input()\n",
    "\n",
    "cnt = 0\n",
    "\n",
    "for c in cr_list:\n",
    "    cnt += word.count(c)\n",
    "    word = word.replace(c,\" \")\n",
    "    \n",
    "print(cnt + len(word.replace(' ',\"\")))"
   ]
  },
  {
   "cell_type": "code",
   "execution_count": 121,
   "id": "bbd7346b",
   "metadata": {
    "scrolled": true
   },
   "outputs": [
    {
     "name": "stdout",
     "output_type": "stream",
     "text": [
      "4\n",
      "aba\n",
      "abab\n",
      "abcabc\n",
      "a\n",
      "1\n"
     ]
    }
   ],
   "source": [
    "# 1316\n",
    "\n",
    "N = int(input())\n",
    "\n",
    "cnt = 0\n",
    "for n in range(N):\n",
    "    word = str(input())\n",
    "    tmp = ''\n",
    "    check = False\n",
    "    \n",
    "    for c in word:\n",
    "        if tmp.find(c) == -1: tmp += c\n",
    "        elif c == tmp[-1]: tmp += c\n",
    "        else: check = True\n",
    "    \n",
    "    if check == False: cnt += 1\n",
    "    else: continue\n",
    "        \n",
    "print(cnt)\n",
    "\n",
    "# 백준 코드\n",
    "result = 0\n",
    "for i in range(int(input())):\n",
    "    word = input()\n",
    "    if list(word) == sorted(word, key=word.find):\n",
    "        result += 1\n",
    "print(result)"
   ]
  },
  {
   "cell_type": "code",
   "execution_count": 125,
   "id": "38a9766e",
   "metadata": {},
   "outputs": [
    {
     "name": "stdout",
     "output_type": "stream",
     "text": [
      "2\n",
      "abaa\n",
      "2 ['a', 'a', 'a', 'b']\n",
      "happy\n",
      "2 ['h', 'a', 'p', 'p', 'y']\n",
      "1\n"
     ]
    }
   ],
   "source": []
  }
 ],
 "metadata": {
  "kernelspec": {
   "display_name": "Python 3",
   "language": "python",
   "name": "python3"
  },
  "language_info": {
   "codemirror_mode": {
    "name": "ipython",
    "version": 3
   },
   "file_extension": ".py",
   "mimetype": "text/x-python",
   "name": "python",
   "nbconvert_exporter": "python",
   "pygments_lexer": "ipython3",
   "version": "3.8.8"
  },
  "toc": {
   "base_numbering": 1,
   "nav_menu": {},
   "number_sections": true,
   "sideBar": true,
   "skip_h1_title": false,
   "title_cell": "Table of Contents",
   "title_sidebar": "Contents",
   "toc_cell": false,
   "toc_position": {},
   "toc_section_display": true,
   "toc_window_display": false
  },
  "varInspector": {
   "cols": {
    "lenName": 16,
    "lenType": 16,
    "lenVar": 40
   },
   "kernels_config": {
    "python": {
     "delete_cmd_postfix": "",
     "delete_cmd_prefix": "del ",
     "library": "var_list.py",
     "varRefreshCmd": "print(var_dic_list())"
    },
    "r": {
     "delete_cmd_postfix": ") ",
     "delete_cmd_prefix": "rm(",
     "library": "var_list.r",
     "varRefreshCmd": "cat(var_dic_list()) "
    }
   },
   "types_to_exclude": [
    "module",
    "function",
    "builtin_function_or_method",
    "instance",
    "_Feature"
   ],
   "window_display": false
  }
 },
 "nbformat": 4,
 "nbformat_minor": 5
}
